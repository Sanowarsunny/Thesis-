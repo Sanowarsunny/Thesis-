{
  "nbformat": 4,
  "nbformat_minor": 0,
  "metadata": {
    "colab": {
      "name": "features importance value.ipynb",
      "private_outputs": true,
      "provenance": [],
      "collapsed_sections": [
        "SOrc_Cz95Rrp",
        "YzbPxh1XLWTz"
      ],
      "mount_file_id": "1-fRmnr2cA7di967EmS7C9HhbcWID_lh9",
      "authorship_tag": "ABX9TyNvMDEOEw2HsEXUZlbSGh0v",
      "include_colab_link": true
    },
    "kernelspec": {
      "name": "python3",
      "display_name": "Python 3"
    },
    "language_info": {
      "name": "python"
    }
  },
  "cells": [
    {
      "cell_type": "markdown",
      "metadata": {
        "id": "view-in-github",
        "colab_type": "text"
      },
      "source": [
        "<a href=\"https://colab.research.google.com/github/Sanowarsunny/Thesis-/blob/main/features_importance_value.ipynb\" target=\"_parent\"><img src=\"https://colab.research.google.com/assets/colab-badge.svg\" alt=\"Open In Colab\"/></a>"
      ]
    },
    {
      "cell_type": "code",
      "source": [
        "!pip install shap"
      ],
      "metadata": {
        "id": "yzhU8_khZMRV"
      },
      "execution_count": null,
      "outputs": []
    },
    {
      "cell_type": "code",
      "execution_count": null,
      "metadata": {
        "id": "qjm_fSp50yym"
      },
      "outputs": [],
      "source": [
        "\n",
        "import shap\n",
        "import pandas as pd\n",
        "import numpy as np\n",
        "from sklearn import ensemble\n",
        "\n",
        "from sklearn.linear_model import LogisticRegression\n",
        "from sklearn.linear_model import LinearRegression\n",
        "from sklearn.tree import DecisionTreeRegressor\n",
        "from sklearn.tree import DecisionTreeClassifier\n",
        "from sklearn.ensemble import RandomForestRegressor\n",
        "from sklearn.ensemble import RandomForestClassifier\n",
        "from xgboost import XGBRegressor\n",
        "from xgboost import XGBClassifier\n",
        "from sklearn.ensemble import GradientBoostingClassifier\n",
        "from sklearn.svm import SVC\n",
        "from sklearn.neighbors import KNeighborsRegressor\n",
        "from sklearn.neighbors import KNeighborsClassifier\n",
        "\n",
        "from sklearn.inspection import permutation_importance\n",
        "from sklearn.naive_bayes import GaussianNB\n",
        "\n",
        "from matplotlib import pyplot\n",
        "import matplotlib.pyplot as plt\n",
        "from sklearn.model_selection import train_test_split\n",
        "from sklearn.metrics import classification_report\n",
        "\n",
        "from sklearn.metrics import confusion_matrix, ConfusionMatrixDisplay"
      ]
    },
    {
      "cell_type": "code",
      "source": [
        "da = pd.read_csv(\"/content/drive/MyDrive/thesis/project/Gsesir_Copy.csv\")\n",
        "da"
      ],
      "metadata": {
        "id": "X2KLfuLY0-Pp"
      },
      "execution_count": null,
      "outputs": []
    },
    {
      "cell_type": "code",
      "source": [
        "y = da['death'].values\n",
        "X = da[[i for i in da.columns if i!='death' and da[i].dtype in [np.int64, np.float64, np.object]]].values"
      ],
      "metadata": {
        "id": "p8cG7SBZ0-R9"
      },
      "execution_count": null,
      "outputs": []
    },
    {
      "cell_type": "code",
      "source": [
        "\n",
        "X_train, X_test, Y_train, Y_test = train_test_split(X, y, test_size=.2,\n",
        "                                                    random_state=5)"
      ],
      "metadata": {
        "id": "AyLwX78848Ui"
      },
      "execution_count": null,
      "outputs": []
    },
    {
      "cell_type": "markdown",
      "source": [
        "# **Features values**"
      ],
      "metadata": {
        "id": "lUCxZJyt5IPH"
      }
    },
    {
      "cell_type": "code",
      "source": [
        "# define the model\n",
        "model = LinearRegression()\n",
        "# fit the model\n",
        "model.fit(X, y)\n",
        "# get importance\n",
        "importance = model.coef_\n",
        "# summarize feature importance\n",
        "for i,v in enumerate(importance):\n",
        "\tprint('Feature: %0d, Score: %.3f' % (i,v))\n",
        "# plot feature importance\n",
        "pyplot.bar([x for x in range(len(importance))], importance)\n",
        "pyplot.show()"
      ],
      "metadata": {
        "id": "5BUnYlaJ0-UK"
      },
      "execution_count": null,
      "outputs": []
    },
    {
      "cell_type": "code",
      "source": [
        "da.info()"
      ],
      "metadata": {
        "id": "t79Er5hV_Vio"
      },
      "execution_count": null,
      "outputs": []
    },
    {
      "cell_type": "code",
      "source": [
        "# define the model\n",
        "model = LogisticRegression()\n",
        "# fit the model\n",
        "model.fit(X, y)\n",
        "# get importance\n",
        "importance = model.coef_[0]\n",
        "# summarize feature importance\n",
        "for i,v in enumerate(importance):\n",
        "\tprint('Feature: %0d, Score: %.5f' % (i,v))\n",
        "# plot feature importance\n",
        "pyplot.bar([x for x in range(len(importance))], importance)\n",
        "pyplot.show()"
      ],
      "metadata": {
        "id": "-gQfwCNu0-Xm"
      },
      "execution_count": null,
      "outputs": []
    },
    {
      "cell_type": "code",
      "source": [
        "# define the model\n",
        "model = DecisionTreeRegressor()\n",
        "# fit the model\n",
        "model.fit(X, y)\n",
        "# get importance\n",
        "importance = model.feature_importances_\n",
        "# summarize feature importance\n",
        "for i,v in enumerate(importance):\n",
        "\tprint('Feature: %0d, Score: %.5f' % (i,v))\n",
        "# plot feature importance\n",
        "pyplot.bar([x for x in range(len(importance))], importance)\n",
        "pyplot.show()"
      ],
      "metadata": {
        "id": "63wiNRda3jdi"
      },
      "execution_count": null,
      "outputs": []
    },
    {
      "cell_type": "code",
      "source": [
        "# define the model\n",
        "model = DecisionTreeClassifier()\n",
        "# fit the model\n",
        "model.fit(X, y)\n",
        "# get importance\n",
        "importance = model.feature_importances_\n",
        "# summarize feature importance\n",
        "for i,v in enumerate(importance):\n",
        "\tprint('Feature: %0d, Score: %.5f' % (i,v))\n",
        "# plot feature importance\n",
        "pyplot.bar([x for x in range(len(importance))], importance)\n",
        "pyplot.show()"
      ],
      "metadata": {
        "id": "PKoFaE2_3jfs"
      },
      "execution_count": null,
      "outputs": []
    },
    {
      "cell_type": "code",
      "source": [
        "# define the model\n",
        "model = RandomForestRegressor()\n",
        "# fit the model\n",
        "model.fit(X, y)\n",
        "# get importance\n",
        "importance = model.feature_importances_\n",
        "# summarize feature importance\n",
        "for i,v in enumerate(importance):\n",
        "\tprint('Feature: %0d, Score: %.5f' % (i,v))\n",
        "# plot feature importance\n",
        "pyplot.bar([x for x in range(len(importance))], importance)\n",
        "pyplot.show()"
      ],
      "metadata": {
        "id": "HzHERS3D3jh7"
      },
      "execution_count": null,
      "outputs": []
    },
    {
      "cell_type": "code",
      "source": [
        "# define the model\n",
        "model = RandomForestClassifier()\n",
        "# fit the model\n",
        "model.fit(X, y)\n",
        "# get importance\n",
        "importance = model.feature_importances_\n",
        "# summarize feature importance\n",
        "for i,v in enumerate(importance):\n",
        "\tprint('Feature: %0d, Score: %.5f' % (i,v))\n",
        "# plot feature importance\n",
        "pyplot.bar([x for x in range(len(importance))], importance)\n",
        "pyplot.show()"
      ],
      "metadata": {
        "id": "0lZ6BB1t3jka"
      },
      "execution_count": null,
      "outputs": []
    },
    {
      "cell_type": "code",
      "source": [
        "# define the model\n",
        "model = XGBRegressor()\n",
        "# fit the model\n",
        "model.fit(X, y)\n",
        "# get importance\n",
        "importance = model.feature_importances_\n",
        "# summarize feature importance\n",
        "for i,v in enumerate(importance):\n",
        "\tprint('Feature: %0d, Score: %.5f' % (i,v))\n",
        "# plot feature importance\n",
        "pyplot.bar([x for x in range(len(importance))], importance)\n",
        "pyplot.show()"
      ],
      "metadata": {
        "id": "4iiL-HC_3jm5"
      },
      "execution_count": null,
      "outputs": []
    },
    {
      "cell_type": "code",
      "source": [
        "# define the model\n",
        "model = XGBClassifier()\n",
        "# fit the model\n",
        "model.fit(X, y)\n",
        "# get importance\n",
        "importance = model.feature_importances_\n",
        "# summarize feature importance\n",
        "for i,v in enumerate(importance):\n",
        "\tprint('Feature: %0d, Score: %.5f' % (i,v))\n",
        "# plot feature importance\n",
        "pyplot.bar([x for x in range(len(importance))], importance)\n",
        "pyplot.show()"
      ],
      "metadata": {
        "id": "8jcIY85N3jqb"
      },
      "execution_count": null,
      "outputs": []
    },
    {
      "cell_type": "code",
      "source": [
        "# define the model\n",
        "model = KNeighborsRegressor()\n",
        "# fit the model\n",
        "model.fit(X, y)\n",
        "# perform permutation importance\n",
        "results = permutation_importance(model, X, y, scoring='neg_mean_squared_error')\n",
        "# get importance\n",
        "importance = results.importances_mean\n",
        "# summarize feature importance\n",
        "for i,v in enumerate(importance):\n",
        "\tprint('Feature: %0d, Score: %.5f' % (i,v))\n",
        "# plot feature importance\n",
        "pyplot.bar([x for x in range(len(importance))], importance)\n",
        "pyplot.show()"
      ],
      "metadata": {
        "id": "DwGYIKX64Rti"
      },
      "execution_count": null,
      "outputs": []
    },
    {
      "cell_type": "code",
      "source": [
        "# define the model\n",
        "model = KNeighborsClassifier()\n",
        "# fit the model\n",
        "model.fit(X, y)\n",
        "# perform permutation importance\n",
        "results = permutation_importance(model, X, y, scoring='accuracy')\n",
        "# get importance\n",
        "importance = results.importances_mean\n",
        "# summarize feature importance\n",
        "for i,v in enumerate(importance):\n",
        "\tprint('Feature: %0d, Score: %.5f' % (i,v))\n",
        "# plot feature importance\n",
        "pyplot.bar([x for x in range(len(importance))], importance)\n",
        "pyplot.show()"
      ],
      "metadata": {
        "id": "Dh54rv5B4awZ"
      },
      "execution_count": null,
      "outputs": []
    },
    {
      "cell_type": "markdown",
      "source": [
        "# **Probabilitiy all model and AUROC curve**"
      ],
      "metadata": {
        "id": "SOrc_Cz95Rrp"
      }
    },
    {
      "cell_type": "code",
      "source": [
        "xg = XGBClassifier()\n",
        "xg.fit(X_train,Y_train)\n",
        "predictions = xg.predict(X_test)\n",
        "\n",
        "print(classification_report(Y_test, predictions))"
      ],
      "metadata": {
        "id": "kBxubM6C5cfx"
      },
      "execution_count": null,
      "outputs": []
    },
    {
      "cell_type": "code",
      "source": [
        "predictions = xg.predict(X_test)\n",
        "ConfusionMatrixDisplay.from_estimator(\n",
        "    xg, X_test, Y_test)\n",
        "\n",
        "plt.show()"
      ],
      "metadata": {
        "id": "OQMMiKD-OHVu"
      },
      "execution_count": null,
      "outputs": []
    },
    {
      "cell_type": "code",
      "source": [
        "predictions = xg.predict(X_test)\n",
        "ConfusionMatrixDisplay.from_predictions(Y_test, predictions)\n",
        "\n",
        "plt.show()"
      ],
      "metadata": {
        "id": "w_v-EE2sQvs3"
      },
      "execution_count": null,
      "outputs": []
    },
    {
      "cell_type": "code",
      "source": [
        "gbt = ensemble.GradientBoostingClassifier(n_estimators=50)\n",
        "gbt.fit(X_train,Y_train)\n",
        "\n",
        "predictions = gbt.predict(X_test)\n",
        "\n",
        "print(classification_report(Y_test, predictions))"
      ],
      "metadata": {
        "id": "F561nMli5cnC"
      },
      "execution_count": null,
      "outputs": []
    },
    {
      "cell_type": "code",
      "source": [
        "predictions = gbt.predict(X_test)\n",
        "ConfusionMatrixDisplay.from_estimator(\n",
        "    gbt, X_test, Y_test)\n",
        "\n",
        "plt.show()"
      ],
      "metadata": {
        "id": "aTKRUqjZQIwO"
      },
      "execution_count": null,
      "outputs": []
    },
    {
      "cell_type": "code",
      "source": [
        "lr = LogisticRegression(solver='newton-cg',multi_class='ovr',max_iter=100, fit_intercept= True)\n",
        "lr.fit(X_train, Y_train)\n",
        "\n",
        "predictions = lr.predict(X_test)\n",
        "\n",
        "print(classification_report(Y_test, predictions))"
      ],
      "metadata": {
        "id": "CNYJ13wU6Ygo"
      },
      "execution_count": null,
      "outputs": []
    },
    {
      "cell_type": "code",
      "source": [
        "predictions = lr.predict(X_test)\n",
        "ConfusionMatrixDisplay.from_estimator(\n",
        "    lr, X_test, Y_test)\n",
        "\n",
        "plt.show()"
      ],
      "metadata": {
        "id": "4IzGj_XkRWx1"
      },
      "execution_count": null,
      "outputs": []
    },
    {
      "cell_type": "code",
      "source": [
        "nb = GaussianNB()\n",
        "nb.fit(X_train, Y_train)\n",
        "predictions = nb.predict(X_test)\n",
        "\n",
        "print(classification_report(Y_test, predictions))"
      ],
      "metadata": {
        "id": "hb8GQ-t05cdo"
      },
      "execution_count": null,
      "outputs": []
    },
    {
      "cell_type": "code",
      "source": [
        "predictions = nb.predict(X_test)\n",
        "ConfusionMatrixDisplay.from_estimator(\n",
        "    nb, X_test, Y_test)\n",
        "\n",
        "plt.show()"
      ],
      "metadata": {
        "id": "h2eW1yxqRcgR"
      },
      "execution_count": null,
      "outputs": []
    },
    {
      "cell_type": "code",
      "source": [
        "from sklearn import tree\n",
        "dt = tree.DecisionTreeClassifier(max_depth=5)\n",
        "dt.fit(X_train, Y_train)\n",
        "\n",
        "predictions = dt.predict(X_test)\n",
        "\n",
        "print(classification_report(Y_test, predictions))"
      ],
      "metadata": {
        "id": "OkhATASt5chk"
      },
      "execution_count": null,
      "outputs": []
    },
    {
      "cell_type": "code",
      "source": [
        "predictions = dt.predict(X_test)\n",
        "ConfusionMatrixDisplay.from_estimator(\n",
        "    dt, X_test, Y_test)\n",
        "\n",
        "plt.show()"
      ],
      "metadata": {
        "id": "TLInlHeXRhlZ"
      },
      "execution_count": null,
      "outputs": []
    },
    {
      "cell_type": "code",
      "source": [
        "from sklearn import ensemble\n",
        "rf = ensemble.RandomForestClassifier(n_estimators=5)\n",
        "rf.fit(X_train, Y_train)\n",
        "\n",
        "predictions = rf.predict(X_test)\n",
        "\n",
        "print(classification_report(Y_test, predictions))"
      ],
      "metadata": {
        "id": "S46rSDAd5cjs"
      },
      "execution_count": null,
      "outputs": []
    },
    {
      "cell_type": "code",
      "source": [
        "predictions = rf.predict(X_test)\n",
        "ConfusionMatrixDisplay.from_estimator(\n",
        "    rf, X_test, Y_test)\n",
        "\n",
        "plt.show()"
      ],
      "metadata": {
        "id": "H9kw-8pNRl7g"
      },
      "execution_count": null,
      "outputs": []
    },
    {
      "cell_type": "code",
      "source": [
        "knn = KNeighborsClassifier(n_neighbors=3)\n",
        "knn.fit(X_train,Y_train)\n",
        "\n",
        "predictions = knn.predict(X_test)\n",
        "\n",
        "print(classification_report(Y_test, predictions))"
      ],
      "metadata": {
        "id": "at1Bj7586YdJ"
      },
      "execution_count": null,
      "outputs": []
    },
    {
      "cell_type": "code",
      "source": [
        "predictions = knn.predict(X_test)\n",
        "ConfusionMatrixDisplay.from_estimator(\n",
        "    knn, X_test, Y_test)\n",
        "\n",
        "plt.show()"
      ],
      "metadata": {
        "id": "PCPUl-6kRrx6"
      },
      "execution_count": null,
      "outputs": []
    },
    {
      "cell_type": "code",
      "source": [
        "svm = SVC(probability=True, kernel='linear')\n",
        "svm.fit(X_train, Y_train)\n",
        "\n",
        "predictions = svm.predict(X_test)\n",
        "\n",
        "print(classification_report(Y_test, predictions))"
      ],
      "metadata": {
        "id": "d63eo9l37ARW"
      },
      "execution_count": null,
      "outputs": []
    },
    {
      "cell_type": "code",
      "source": [
        "predictions = svm.predict(X_test)\n",
        "ConfusionMatrixDisplay.from_estimator(\n",
        "    svm, X_test, Y_test)\n",
        "\n",
        "plt.show()"
      ],
      "metadata": {
        "id": "LITecHwKRx7_"
      },
      "execution_count": null,
      "outputs": []
    },
    {
      "cell_type": "code",
      "source": [
        "predictions = svm.predict(X_test)\n",
        "cm = confusion_matrix(Y_test, predictions, labels=svm.classes_)\n",
        "disp = ConfusionMatrixDisplay(confusion_matrix=cm,\n",
        "                               display_labels=svm.classes_)\n",
        "disp.plot()\n",
        "\n",
        "plt.show()"
      ],
      "metadata": {
        "id": "Wpv2TS1dNlqU"
      },
      "execution_count": null,
      "outputs": []
    },
    {
      "cell_type": "markdown",
      "source": [
        "# AUROC Start"
      ],
      "metadata": {
        "id": "YzbPxh1XLWTz"
      }
    },
    {
      "cell_type": "code",
      "source": [
        "r_prob = [0 for _ in range(len(Y_test))]\n",
        "rf_prob = rf.predict_proba(X_test)\n",
        "nb_prob = nb.predict_proba(X_test)\n",
        "dt_prob = dt.predict_proba(X_test)\n",
        "xg_prob = xg.predict_proba(X_test)\n",
        "gbt_prob = gbt.predict_proba(X_test)\n",
        "knn_prob = knn.predict_proba(X_test)\n",
        "lr_prob = lr.predict_proba(X_test)\n",
        "svm_prob = svm.predict_proba(X_test)"
      ],
      "metadata": {
        "id": "TQxWxXrE7Agl"
      },
      "execution_count": null,
      "outputs": []
    },
    {
      "cell_type": "code",
      "source": [
        "rf_prob = rf_prob[:,1] \n",
        "nb_prob = nb_prob[:,1] \n",
        "dt_prob = dt_prob[:,1] \n",
        "xg_prob = xg_prob[:,1] \n",
        "gbt_prob = gbt_prob[:,1]\n",
        "knn_prob = knn_prob[:,1] \n",
        "lr_prob = lr_prob[:,1] \n",
        "svm_prob = svm_prob[:,1] "
      ],
      "metadata": {
        "id": "P6hEXyJ77yjj"
      },
      "execution_count": null,
      "outputs": []
    },
    {
      "cell_type": "code",
      "source": [
        "from sklearn.metrics import roc_auc_score , roc_curve\n",
        "\n",
        "r_auc = roc_auc_score(Y_test, r_prob)\n",
        "rf_auc = roc_auc_score(Y_test, rf_prob)\n",
        "nb_auc = roc_auc_score(Y_test, nb_prob)\n",
        "dt_auc = roc_auc_score(Y_test, dt_prob)\n",
        "xg_auc = roc_auc_score(Y_test, xg_prob)\n",
        "gbt_auc = roc_auc_score(Y_test, gbt_prob)\n",
        "knn_auc = roc_auc_score(Y_test, knn_prob)\n",
        "lr_auc = roc_auc_score(Y_test, lr_prob)\n",
        "svm_auc = roc_auc_score(Y_test, svm_prob)"
      ],
      "metadata": {
        "id": "ieW_lyBb79eU"
      },
      "execution_count": null,
      "outputs": []
    },
    {
      "cell_type": "code",
      "source": [
        "print(\"Random prediction: AUROC = %.6f\" %(r_auc))\n",
        "print(\"Random Forest: AUROC = %.6f\" %(rf_auc))\n",
        "print(\"Naive Bayes: AUROC = %.6f\" %(nb_auc))\n",
        "print(\"Decision Tree: AUROC = %.6f\" %(dt_auc))\n",
        "print(\"XGBoost: AUROC = %.6f\" %(xg_auc))\n",
        "print(\"Gradient Boost: AUROC = %.6f\" %(gbt_auc))\n",
        "print(\"KNearest Neighbor: AUROC = %.6f\" %(knn_auc))\n",
        "print(\"Logistic Regression: AUROC = %.6f\" %(lr_auc))\n",
        "print(\"Support Vector Machine: AUROC = %.6f\" %(svm_auc))"
      ],
      "metadata": {
        "id": "PmI3wAWW8NnH"
      },
      "execution_count": null,
      "outputs": []
    },
    {
      "cell_type": "code",
      "source": [
        "r_fpr, r_tpr, _ = roc_curve(Y_test, r_prob)\n",
        "rf_fpr, rf_tpr, _ = roc_curve(Y_test, rf_prob)\n",
        "nb_fpr, nb_tpr, _ = roc_curve(Y_test, nb_prob)\n",
        "dt_fpr, dt_tpr, _ = roc_curve(Y_test, dt_prob)\n",
        "xg_fpr, xg_tpr, _ = roc_curve(Y_test, xg_prob)\n",
        "gbt_fpr, gbt_tpr, _ = roc_curve(Y_test, gbt_prob)\n",
        "knn_fpr, knn_tpr, _ = roc_curve(Y_test, knn_prob)\n",
        "lr_fpr, lr_tpr, _ = roc_curve(Y_test, lr_prob)\n",
        "svm_fpr, svm_tpr, _ = roc_curve(Y_test, svm_prob)"
      ],
      "metadata": {
        "id": "5nvq_30M8WcE"
      },
      "execution_count": null,
      "outputs": []
    },
    {
      "cell_type": "code",
      "source": [
        "import matplotlib.pyplot as plt\n",
        "plt.figure(figsize=(15,10))\n",
        "\n",
        "plt.plot(r_fpr, r_tpr, linestyle='-', label='Random Prediction (AUROC=%0.4f)' %r_auc)\n",
        "plt.plot(rf_fpr, rf_tpr, marker='.', label='Random Forest (AUROC=%0.4f)' %rf_auc)\n",
        "plt.plot(nb_fpr, nb_tpr, marker='.', label='Naive Bayes (AUROC=%0.4f)' %nb_auc)\n",
        "plt.plot(dt_fpr, dt_tpr, marker='.', label='DT (AUROC=%0.4f)' %dt_auc)\n",
        "plt.plot(xg_fpr, xg_tpr, marker='.', label='XGBoost(AUROC=%0.4f)' %xg_auc)\n",
        "plt.plot(gbt_fpr, gbt_tpr, marker='.', label='Gradient Boost(AUROC=%0.4f)' %gbt_auc)\n",
        "plt.plot(knn_fpr, knn_tpr, marker='.', label='KNN (AUROC=%0.4f)' %knn_auc)\n",
        "plt.plot(lr_fpr, lr_tpr, marker='.', label='LR (AUROC=%0.4f)' %lr_auc)\n",
        "plt.plot(svm_fpr, svm_tpr, marker='.', label='SVM (AUROC=%0.4f)' %svm_auc)\n",
        "\n",
        "\n",
        "#title\n",
        "plt.title('ROC Plot')\n",
        "\n",
        "#Axis Labels\n",
        "plt.xlabel('False Positive Rate')\n",
        "plt.ylabel('True Positive Rate')\n",
        "\n",
        "#show legend\n",
        "plt.legend()\n",
        "plt.show()"
      ],
      "metadata": {
        "id": "gHaWSYTl8mh_"
      },
      "execution_count": null,
      "outputs": []
    },
    {
      "cell_type": "markdown",
      "source": [
        "# **Shap model**"
      ],
      "metadata": {
        "id": "ueYV1RY8V--Z"
      }
    },
    {
      "cell_type": "code",
      "source": [
        "da"
      ],
      "metadata": {
        "id": "4fv45uMXWGTi"
      },
      "execution_count": null,
      "outputs": []
    },
    {
      "cell_type": "code",
      "source": [
        "# top 10 important features\n",
        "imp=da[[\"Age\", \"Intubation\", \"rate Po2\", \"Other chronic diseases\",\n",
        "        \"hospital duration\", \"Cough\",\n",
        "       \"myalgia or fatigue\", \"Shortness of breath\",\n",
        "       \"Fever\",\"gender\",\"death\"]]\n",
        "imp"
      ],
      "metadata": {
        "id": "uv0aGexGWGVH"
      },
      "execution_count": null,
      "outputs": []
    },
    {
      "cell_type": "code",
      "source": [
        "imp_out = imp['death'].values\n",
        "imp_input = imp[[i for i in imp.columns if i!='death' and imp[i].dtype in [np.int64, np.float64, np.object]]].values"
      ],
      "metadata": {
        "id": "vvy0-4dhWGZB"
      },
      "execution_count": null,
      "outputs": []
    },
    {
      "cell_type": "code",
      "source": [
        "from sklearn.model_selection import train_test_split\n",
        "im_train, im_test, out_train, out_test = train_test_split(\n",
        "    imp_input,\n",
        "     imp_out,\n",
        "    test_size=0.20,random_state = 20)"
      ],
      "metadata": {
        "id": "WyW7SfDeXSH7"
      },
      "execution_count": null,
      "outputs": []
    },
    {
      "cell_type": "markdown",
      "source": [
        "# **XGBoost**"
      ],
      "metadata": {
        "id": "wlIFiv8IcTZ4"
      }
    },
    {
      "cell_type": "code",
      "source": [
        "xg = XGBClassifier()\n",
        "# Fit the Model\n",
        "\n",
        "xg.fit( im_train, out_train)\n",
        "xg.score( im_test, out_test)\n"
      ],
      "metadata": {
        "id": "3N11YOkRXSLe"
      },
      "execution_count": null,
      "outputs": []
    },
    {
      "cell_type": "code",
      "source": [
        "predictions = xg.predict(im_test)\n",
        "\n",
        "print(classification_report(out_test, predictions))"
      ],
      "metadata": {
        "id": "FKNMHAIvYETe"
      },
      "execution_count": null,
      "outputs": []
    },
    {
      "cell_type": "code",
      "source": [
        "# define the model\n",
        "model = XGBClassifier()\n",
        "# fit the model\n",
        "model.fit(imp_input, imp_out)\n",
        "# get importance\n",
        "importance = model.feature_importances_\n",
        "# summarize feature importance\n",
        "for i,v in enumerate(importance):\n",
        "\tprint('Feature: %0d, Score: %.5f' % (i,v))\n",
        "# plot feature importance\n",
        "pyplot.bar([x for x in range(len(importance))], importance)\n",
        "pyplot.show()"
      ],
      "metadata": {
        "id": "vixh22x5bTC2"
      },
      "execution_count": null,
      "outputs": []
    },
    {
      "cell_type": "code",
      "source": [
        "predictions = xg.predict(im_test)\n",
        "ConfusionMatrixDisplay.from_estimator(\n",
        "    xg, im_test, out_test)\n",
        "\n",
        "plt.show()"
      ],
      "metadata": {
        "id": "V1h-GXlXa929"
      },
      "execution_count": null,
      "outputs": []
    },
    {
      "cell_type": "markdown",
      "source": [
        "# **Logistic** **Regression**"
      ],
      "metadata": {
        "id": "xpCGETUccdCM"
      }
    },
    {
      "cell_type": "code",
      "source": [
        "lr = LogisticRegression(penalty = 'l2',\n",
        "\t  C = .003,\n",
        "\t  n_jobs = -2,\n",
        "\t  multi_class = 'multinomial',\n",
        "\t  solver = 'lbfgs')\n",
        "\n",
        "lr.fit( im_train, out_train)\n",
        "lr.score( im_test, out_test)\n"
      ],
      "metadata": {
        "id": "cv0kAc53crx9"
      },
      "execution_count": null,
      "outputs": []
    },
    {
      "cell_type": "code",
      "source": [
        "predictions = lr.predict(im_test)\n",
        "\n",
        "print(classification_report(out_test, predictions))"
      ],
      "metadata": {
        "id": "qjHCggX4csGR"
      },
      "execution_count": null,
      "outputs": []
    },
    {
      "cell_type": "code",
      "source": [
        "# define the model\n",
        "model = LogisticRegression()\n",
        "# fit the model\n",
        "model.fit(imp_input, imp_out)\n",
        "# get importance\n",
        "importance = model.coef_[0]\n",
        "# summarize feature importance\n",
        "for i,v in enumerate(importance):\n",
        "\tprint('Feature: %0d, Score: %.5f' % (i,v))\n",
        "# plot feature importance\n",
        "pyplot.bar([x for x in range(len(importance))], importance)\n",
        "pyplot.show()"
      ],
      "metadata": {
        "id": "qWH-7BtRlMIx"
      },
      "execution_count": null,
      "outputs": []
    }
  ]
}