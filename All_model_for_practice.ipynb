{
  "nbformat": 4,
  "nbformat_minor": 0,
  "metadata": {
    "colab": {
      "name": "All model for practice.ipynb",
      "private_outputs": true,
      "provenance": [],
      "collapsed_sections": [],
      "mount_file_id": "1mPmkjzwcJPia87-nN9DtM-mdO7uJ84tR",
      "authorship_tag": "ABX9TyN9Qy4IlCy93zZ6QUxqQehx",
      "include_colab_link": true
    },
    "kernelspec": {
      "name": "python3",
      "display_name": "Python 3"
    },
    "language_info": {
      "name": "python"
    },
    "accelerator": "GPU"
  },
  "cells": [
    {
      "cell_type": "markdown",
      "metadata": {
        "id": "view-in-github",
        "colab_type": "text"
      },
      "source": [
        "<a href=\"https://colab.research.google.com/github/Sanowarsunny/Thesis-/blob/main/All_model_for_practice.ipynb\" target=\"_parent\"><img src=\"https://colab.research.google.com/assets/colab-badge.svg\" alt=\"Open In Colab\"/></a>"
      ]
    },
    {
      "cell_type": "code",
      "execution_count": null,
      "metadata": {
        "id": "GW5oEC4ht-vN"
      },
      "outputs": [],
      "source": [
        "import pandas as pd\n",
        "import numpy as np\n"
      ]
    },
    {
      "cell_type": "code",
      "source": [
        "da = pd.read_csv(\"/content/drive/MyDrive/thesis/project/Gsesir_Copy.csv\")\n",
        "da"
      ],
      "metadata": {
        "id": "tqbaQCO_uiBq"
      },
      "execution_count": null,
      "outputs": []
    },
    {
      "cell_type": "code",
      "source": [
        "da.shape"
      ],
      "metadata": {
        "id": "oSjCDn943vAl"
      },
      "execution_count": null,
      "outputs": []
    },
    {
      "cell_type": "code",
      "source": [
        "da.info()"
      ],
      "metadata": {
        "id": "U3i9zzIx36-6"
      },
      "execution_count": null,
      "outputs": []
    },
    {
      "cell_type": "code",
      "source": [
        "Y = da['death'].values\n",
        "X = da[[i for i in da.columns if i!='death' and da[i].dtype in [np.int64, np.float64, np.object]]].values"
      ],
      "metadata": {
        "id": "7p3u5kuauiEA"
      },
      "execution_count": null,
      "outputs": []
    },
    {
      "cell_type": "code",
      "source": [
        "from sklearn.model_selection import train_test_split\n",
        "X_train, X_test, y_train, y_test = train_test_split(\n",
        "    X,\n",
        "    Y,\n",
        "    test_size=0.3,random_state = 0)"
      ],
      "metadata": {
        "id": "GLrM4p-_uiGG"
      },
      "execution_count": null,
      "outputs": []
    },
    {
      "cell_type": "markdown",
      "source": [
        "decision tree"
      ],
      "metadata": {
        "id": "T7mTtTeQyqHP"
      }
    },
    {
      "cell_type": "code",
      "source": [
        "# Using simple Decision Tree classifier\n",
        "from sklearn import tree\n",
        "dt_clf = tree.DecisionTreeClassifier(max_depth=5)\n",
        "dt_clf.fit(X_train, y_train)\n",
        "dt_clf.score(X_test, y_test)"
      ],
      "metadata": {
        "id": "aZfkAmsKuiIY"
      },
      "execution_count": null,
      "outputs": []
    },
    {
      "cell_type": "code",
      "source": [
        "y_pred = dt_clf.predict(X_test)\n",
        "\n",
        "from sklearn.metrics import confusion_matrix\n",
        "confusion_matrix(y_test, y_pred)"
      ],
      "metadata": {
        "id": "hkVQvrK8uiNh"
      },
      "execution_count": null,
      "outputs": []
    },
    {
      "cell_type": "markdown",
      "source": [
        "#True positives: 306 (upper left)\n",
        "#True negatives: 1 (lower right)\n",
        "#False positives: 24 (upper right)\n",
        "#False negatives: 12 (lower left)"
      ],
      "metadata": {
        "id": "6u1CK7wxxQWX"
      }
    },
    {
      "cell_type": "markdown",
      "source": [
        "random forest"
      ],
      "metadata": {
        "id": "IXWBALVgytYj"
      }
    },
    {
      "cell_type": "code",
      "source": [
        "from sklearn import ensemble\n",
        "rf_clf = ensemble.RandomForestClassifier(n_estimators=100)\n",
        "rf_clf.fit(X_train, y_train)\n",
        "rf_clf.score(X_test, y_test)"
      ],
      "metadata": {
        "id": "ht_IVzoDxkkj"
      },
      "execution_count": null,
      "outputs": []
    },
    {
      "cell_type": "code",
      "source": [
        "y_pred = rf_clf.predict(X_test)\n",
        "\n",
        "from sklearn.metrics import confusion_matrix\n",
        "confusion_matrix(y_test, y_pred)"
      ],
      "metadata": {
        "id": "CdPtQGUcyTfK"
      },
      "execution_count": null,
      "outputs": []
    },
    {
      "cell_type": "markdown",
      "source": [
        "gradient boost"
      ],
      "metadata": {
        "id": "7Sssi1JhyzMQ"
      }
    },
    {
      "cell_type": "code",
      "source": [
        "gb_clf = ensemble.GradientBoostingClassifier()\n",
        "gb_clf.fit(X_train, y_train)\n",
        "gb_clf.score(X_test, y_test)"
      ],
      "metadata": {
        "id": "wYQc08Y2yBum"
      },
      "execution_count": null,
      "outputs": []
    },
    {
      "cell_type": "code",
      "source": [
        "y_pred = gb_clf.predict(X_test)\n",
        "\n",
        "from sklearn.metrics import confusion_matrix\n",
        "confusion_matrix(y_test, y_pred)"
      ],
      "metadata": {
        "id": "1GKyRAUQyZRz"
      },
      "execution_count": null,
      "outputs": []
    },
    {
      "cell_type": "markdown",
      "source": [
        "XGBoost Classifier"
      ],
      "metadata": {
        "id": "BpCR-YIxHCsj"
      }
    },
    {
      "cell_type": "code",
      "source": [
        "from xgboost.sklearn import XGBClassifier\n",
        "xg = XGBClassifier(eta = 0.1,\n",
        "\t max_depth = 10,\n",
        "\t min_child_weight = 15,\n",
        "\t n_estimators = 100,\n",
        "\t n_jobs = 1)\n",
        "\n",
        "xg.fit(X_train,y_train)\n",
        "xg.score(X_test, y_test)"
      ],
      "metadata": {
        "id": "L2KOE7JMHNuI"
      },
      "execution_count": null,
      "outputs": []
    },
    {
      "cell_type": "markdown",
      "source": [
        "GradientBoostingClassifier"
      ],
      "metadata": {
        "id": "m7L_1O4yy6M0"
      }
    },
    {
      "cell_type": "code",
      "source": [
        "# Let's  tune this Gradient booster.\n",
        "gbt_clf = ensemble.GradientBoostingClassifier(n_estimators=50)\n",
        "gbt_clf.fit(X_train,y_train)\n",
        "gbt_clf.score(X_test, y_test)"
      ],
      "metadata": {
        "id": "TVCTUqvPyCYr"
      },
      "execution_count": null,
      "outputs": []
    },
    {
      "cell_type": "code",
      "source": [
        "y_pred = gbt_clf.predict(X_test)\n",
        "\n",
        "from sklearn.metrics import confusion_matrix\n",
        "confusion_matrix(y_test, y_pred)"
      ],
      "metadata": {
        "id": "Yktz4qwzyCe3"
      },
      "execution_count": null,
      "outputs": []
    },
    {
      "cell_type": "markdown",
      "source": [
        "navie bayes"
      ],
      "metadata": {
        "id": "P3gEVE2rzNzC"
      }
    },
    {
      "cell_type": "code",
      "source": [
        "from sklearn.naive_bayes  import GaussianNB\n",
        "nb_clf = GaussianNB()\n",
        "nb_clf.fit(X_train,y_train)\n",
        "nb_clf.score(X_test, y_test)"
      ],
      "metadata": {
        "id": "WdxmhilkzRYU"
      },
      "execution_count": null,
      "outputs": []
    },
    {
      "cell_type": "markdown",
      "source": [
        "k-nearest Neighbor Classifier"
      ],
      "metadata": {
        "id": "TVnEsedez2r5"
      }
    },
    {
      "cell_type": "code",
      "source": [
        "from sklearn.neighbors  import KNeighborsClassifier\n",
        "knn_clf = KNeighborsClassifier(n_neighbors=3)\n",
        "knn_clf.fit(X_train,y_train)\n",
        "knn_clf.score(X_test, y_test)"
      ],
      "metadata": {
        "id": "DUef1DiAzRbr"
      },
      "execution_count": null,
      "outputs": []
    },
    {
      "cell_type": "markdown",
      "source": [
        "Logistic Regression"
      ],
      "metadata": {
        "id": "Db1fMyGS0co7"
      }
    },
    {
      "cell_type": "code",
      "source": [
        "from sklearn.linear_model import LogisticRegression\n",
        "lr = LogisticRegression()\n",
        "lr.fit(X_train, y_train)\n",
        "lr.score(X_test, y_test)"
      ],
      "metadata": {
        "id": "_2dzIxzg0hKh"
      },
      "execution_count": null,
      "outputs": []
    },
    {
      "cell_type": "markdown",
      "source": [
        "Support Vector machine"
      ],
      "metadata": {
        "id": "0_mzAytY09ic"
      }
    },
    {
      "cell_type": "code",
      "source": [
        "from sklearn.svm import SVC\n",
        "svm = SVC(probability=True, kernel='linear')\n",
        "svm.fit(X_train, y_train)\n",
        "svm.score(X_test, y_test)"
      ],
      "metadata": {
        "id": "BQO83XD_1BH5"
      },
      "execution_count": null,
      "outputs": []
    },
    {
      "cell_type": "markdown",
      "source": [
        "prediction Probabilities"
      ],
      "metadata": {
        "id": "OPEOLLEL12vO"
      }
    },
    {
      "cell_type": "code",
      "source": [
        "r_prob = [0 for _ in range(len(y_test))]\n",
        "rf_prob = rf_clf.predict_proba(X_test)\n",
        "nb_prob = nb_clf.predict_proba(X_test)\n",
        "dt_prob = dt_clf.predict_proba(X_test)\n",
        "xg_prob = xg.predict_proba(X_test)\n",
        "gbt_prob = gbt_clf.predict_proba(X_test)\n",
        "knn_prob = knn_clf.predict_proba(X_test)\n",
        "lr_prob = lr.predict_proba(X_test)\n",
        "svm_prob = svm.predict_proba(X_test)\n"
      ],
      "metadata": {
        "id": "wTG4VFww18W3"
      },
      "execution_count": null,
      "outputs": []
    },
    {
      "cell_type": "markdown",
      "source": [
        "positive outcome"
      ],
      "metadata": {
        "id": "WgxTr0Dh3TDO"
      }
    },
    {
      "cell_type": "code",
      "source": [
        "rf_prob = rf_prob[:,1] \n",
        "nb_prob = nb_prob[:,1] \n",
        "dt_prob = dt_prob[:,1] \n",
        "xg_prob = xg_prob[:,1] \n",
        "gbt_prob = gbt_prob[:,1]\n",
        "knn_prob = knn_prob[:,1] \n",
        "lr_prob = lr_prob[:,1] \n",
        "svm_prob = svm_prob[:,1] \n"
      ],
      "metadata": {
        "id": "Zo37lh9R3Vkj"
      },
      "execution_count": null,
      "outputs": []
    },
    {
      "cell_type": "markdown",
      "source": [
        "AUROC values"
      ],
      "metadata": {
        "id": "-DJPRMuG55Dy"
      }
    },
    {
      "cell_type": "code",
      "source": [
        "from sklearn.metrics import roc_auc_score , roc_curve\n",
        "\n",
        "r_auc = roc_auc_score(y_test, r_prob)\n",
        "rf_auc = roc_auc_score(y_test, rf_prob)\n",
        "nb_auc = roc_auc_score(y_test, nb_prob)\n",
        "dt_auc = roc_auc_score(y_test, dt_prob)\n",
        "xg_auc = roc_auc_score(y_test, xg_prob)\n",
        "gbt_auc = roc_auc_score(y_test, gbt_prob)\n",
        "knn_auc = roc_auc_score(y_test, knn_prob)\n",
        "lr_auc = roc_auc_score(y_test, lr_prob)\n",
        "svm_auc = roc_auc_score(y_test, svm_prob)"
      ],
      "metadata": {
        "id": "odf_TL7q58c8"
      },
      "execution_count": null,
      "outputs": []
    },
    {
      "cell_type": "markdown",
      "source": [
        "display the AUROC"
      ],
      "metadata": {
        "id": "6V_T9nIv6uR6"
      }
    },
    {
      "cell_type": "code",
      "source": [
        "print(\"Random prediction: AUROC = %.6f\" %(r_auc))\n",
        "print(\"Random Forest: AUROC = %.6f\" %(rf_auc))\n",
        "print(\"Naive Bayes: AUROC = %.6f\" %(nb_auc))\n",
        "print(\"Decision Tree: AUROC = %.6f\" %(dt_auc))\n",
        "print(\"XGBoost: AUROC = %.6f\" %(xg_auc))\n",
        "print(\"Gradient Boost: AUROC = %.6f\" %(gbt_auc))\n",
        "print(\"KNearest Neighbor: AUROC = %.6f\" %(knn_auc))\n",
        "print(\"Logistic Regression: AUROC = %.6f\" %(lr_auc))\n",
        "print(\"Support Vector Machine: AUROC = %.6f\" %(svm_auc))\n"
      ],
      "metadata": {
        "id": "ucOUopIX614M"
      },
      "execution_count": null,
      "outputs": []
    },
    {
      "cell_type": "markdown",
      "source": [
        "Receiver Operating Characteristics(ROC) Curve"
      ],
      "metadata": {
        "id": "Q3phWx8GA3-1"
      }
    },
    {
      "cell_type": "code",
      "source": [
        "r_fpr, r_tpr, _ = roc_curve(y_test, r_prob)\n",
        "rf_fpr, rf_tpr, _ = roc_curve(y_test, rf_prob)\n",
        "nb_fpr, nb_tpr, _ = roc_curve(y_test, nb_prob)\n",
        "dt_fpr, dt_tpr, _ = roc_curve(y_test, dt_prob)\n",
        "xg_fpr, xg_tpr, _ = roc_curve(y_test, xg_prob)\n",
        "gbt_fpr, gbt_tpr, _ = roc_curve(y_test, gbt_prob)\n",
        "knn_fpr, knn_tpr, _ = roc_curve(y_test, knn_prob)\n",
        "lr_fpr, lr_tpr, _ = roc_curve(y_test, lr_prob)\n",
        "svm_fpr, svm_tpr, _ = roc_curve(y_test, svm_prob)\n"
      ],
      "metadata": {
        "id": "XYHKOMqPA6z2"
      },
      "execution_count": null,
      "outputs": []
    },
    {
      "cell_type": "markdown",
      "source": [
        "Plot The Receiver Operating Characteristics(ROC)"
      ],
      "metadata": {
        "id": "RzSPatflDlBg"
      }
    },
    {
      "cell_type": "code",
      "source": [
        "import matplotlib.pyplot as plt\n",
        "plt.figure(figsize=(15,10))\n",
        "\n",
        "plt.plot(r_fpr, r_tpr, linestyle='--', label='Random Prediction (AUROC=%0.4f)' %r_auc)\n",
        "plt.plot(rf_fpr, rf_tpr, linestyle='--', label='Random Forest (AUROC=%0.4f)' %rf_auc)\n",
        "plt.plot(nb_fpr, nb_tpr, linestyle='--', label='Naive Bayes (AUROC=%0.4f)' %nb_auc)\n",
        "plt.plot(dt_fpr, dt_tpr, linestyle='--', label='DT (AUROC=%0.4f)' %dt_auc)\n",
        "plt.plot(xg_fpr, xg_tpr, linestyle='--', label='XGBoost(AUROC=%0.4f)' %xg_auc)\n",
        "plt.plot(gbt_fpr, gbt_tpr, linestyle='--', label='Gradient Boost(AUROC=%0.4f)' %gbt_auc)\n",
        "plt.plot(knn_fpr, knn_tpr, linestyle='--', label='KNN (AUROC=%0.4f)' %knn_auc)\n",
        "plt.plot(lr_fpr, lr_tpr, linestyle='--', label='LR (AUROC=%0.4f)' %lr_auc)\n",
        "plt.plot(svm_fpr, svm_tpr, linestyle='--', label='SVM (AUROC=%0.4f)' %svm_auc)\n",
        "\n",
        "\n",
        "#title\n",
        "plt.title('ROC Plot')\n",
        "\n",
        "#Axis Labels\n",
        "plt.xlabel('False Positive Rate')\n",
        "plt.ylabel('True Positive Rate')\n",
        "\n",
        "#show legend\n",
        "plt.legend()\n",
        "plt.show()\n"
      ],
      "metadata": {
        "id": "DtWm8DhID0Ox"
      },
      "execution_count": null,
      "outputs": []
    }
  ]
}