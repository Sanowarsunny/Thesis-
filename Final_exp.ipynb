{
  "nbformat": 4,
  "nbformat_minor": 0,
  "metadata": {
    "colab": {
      "name": "Final-exp.ipynb",
      "private_outputs": true,
      "provenance": [],
      "collapsed_sections": [
        "EQjiiiPrx2Wy",
        "SJgzBYTbuZze",
        "yM4vw2Iuaa9c",
        "gw87KYR3LuHG",
        "B28BZbloK41r",
        "MuGDmqxtghMQ"
      ],
      "mount_file_id": "1m2RaB0Pbt10LLSOfWVUq7k36Ln9CH5oq",
      "authorship_tag": "ABX9TyOFzrcO70mkR2itvHRHeZOI",
      "include_colab_link": true
    },
    "kernelspec": {
      "name": "python3",
      "display_name": "Python 3"
    },
    "language_info": {
      "name": "python"
    },
    "accelerator": "GPU"
  },
  "cells": [
    {
      "cell_type": "markdown",
      "metadata": {
        "id": "view-in-github",
        "colab_type": "text"
      },
      "source": [
        "<a href=\"https://colab.research.google.com/github/Sanowarsunny/Thesis-/blob/main/Final_exp.ipynb\" target=\"_parent\"><img src=\"https://colab.research.google.com/assets/colab-badge.svg\" alt=\"Open In Colab\"/></a>"
      ]
    },
    {
      "cell_type": "code",
      "execution_count": null,
      "metadata": {
        "id": "YHP6u75Isab8"
      },
      "outputs": [],
      "source": [
        "!pip install shap"
      ]
    },
    {
      "cell_type": "code",
      "source": [
        "import pandas as pd\n",
        "import numpy as np\n",
        "import shap\n",
        "from sklearn.model_selection import train_test_split\n",
        "from sklearn.ensemble import RandomForestClassifier\n",
        "from sklearn.metrics import r2_score\n",
        "from sklearn.linear_model import LogisticRegression\n",
        "from sklearn.linear_model import LinearRegression\n",
        "from sklearn.svm import LinearSVC\n",
        "from sklearn.svm import SVC\n",
        "from sklearn.tree import DecisionTreeClassifier\n",
        "from xgboost.sklearn import XGBClassifier\n",
        "from sklearn import preprocessing\n",
        "from sklearn import metrics\n",
        "from sklearn.metrics import accuracy_score\n",
        "from xgboost import XGBRegressor\n",
        "from sklearn.preprocessing import StandardScaler\n",
        "from sklearn.metrics import classification_report"
      ],
      "metadata": {
        "id": "qkUes5Y0uYyJ"
      },
      "execution_count": null,
      "outputs": []
    },
    {
      "cell_type": "markdown",
      "source": [
        "# **Data Process**"
      ],
      "metadata": {
        "id": "EQjiiiPrx2Wy"
      }
    },
    {
      "cell_type": "code",
      "source": [
        "da = pd.read_csv(\"/content/drive/MyDrive/thesis/project/Gsesir_Copy.csv\")\n",
        "da"
      ],
      "metadata": {
        "id": "wS_iPwsiuY0f"
      },
      "execution_count": null,
      "outputs": []
    },
    {
      "cell_type": "code",
      "source": [
        "da.dtypes"
      ],
      "metadata": {
        "id": "tlX_o0V3uY2r"
      },
      "execution_count": null,
      "outputs": []
    },
    {
      "cell_type": "code",
      "source": [
        "da.describe()"
      ],
      "metadata": {
        "id": "UAHYSxwKuY5L"
      },
      "execution_count": null,
      "outputs": []
    },
    {
      "cell_type": "code",
      "source": [
        "da.shape"
      ],
      "metadata": {
        "id": "PQz2SZWUuY8v"
      },
      "execution_count": null,
      "outputs": []
    },
    {
      "cell_type": "code",
      "source": [
        "Y = da['death']\n",
        "X = da[[i for i in da.columns if i!='death' and da[i].dtype in [np.int64, np.float64, np.object]]]"
      ],
      "metadata": {
        "id": "skI6QEUqyGGB"
      },
      "execution_count": null,
      "outputs": []
    },
    {
      "cell_type": "code",
      "source": [
        "X.columns"
      ],
      "metadata": {
        "id": "vzrdZw7IyLfC"
      },
      "execution_count": null,
      "outputs": []
    },
    {
      "cell_type": "code",
      "source": [
        "# pandas count distinct values in column\n",
        "da['death'].value_counts()"
      ],
      "metadata": {
        "id": "Rab9LFreyUK5"
      },
      "execution_count": null,
      "outputs": []
    },
    {
      "cell_type": "code",
      "source": [
        "from sklearn.model_selection import train_test_split\n",
        "X_train, X_test, y_train, y_test = train_test_split(\n",
        "    X,\n",
        "    Y,\n",
        "    test_size=0.2,random_state = 42)"
      ],
      "metadata": {
        "id": "fXo9gLYzNxZe"
      },
      "execution_count": null,
      "outputs": []
    },
    {
      "cell_type": "markdown",
      "source": [
        "# **Accuracy**"
      ],
      "metadata": {
        "id": "SJgzBYTbuZze"
      }
    },
    {
      "cell_type": "markdown",
      "source": [
        "LR"
      ],
      "metadata": {
        "id": "QAEL320YNLDj"
      }
    },
    {
      "cell_type": "code",
      "source": [
        "lr = LogisticRegression(solver='newton-cg',multi_class='ovr',max_iter=100, fit_intercept= True)\n",
        "lr.fit(X_train, y_train)\n",
        "lr.score(X_test, y_test)"
      ],
      "metadata": {
        "id": "WI40tiERNlG9"
      },
      "execution_count": null,
      "outputs": []
    },
    {
      "cell_type": "markdown",
      "source": [
        "XGBClassifier"
      ],
      "metadata": {
        "id": "F3IqtCMXR87h"
      }
    },
    {
      "cell_type": "code",
      "source": [
        "xg = XGBClassifier(eta = 0.1,\n",
        "\t max_depth = 10,\n",
        "\t min_child_weight = 15,\n",
        "\t n_estimators = 100,\n",
        "\t n_jobs = 1)\n",
        "\n",
        "xg.fit(X_train,y_train)\n",
        "xg.score(X_test, y_test)"
      ],
      "metadata": {
        "id": "JGT_l4ltRoJI"
      },
      "execution_count": null,
      "outputs": []
    },
    {
      "cell_type": "markdown",
      "source": [
        "RANDOM Froest"
      ],
      "metadata": {
        "id": "LfitTX51NLGV"
      }
    },
    {
      "cell_type": "code",
      "source": [
        "rf = RandomForestClassifier(n_estimators=5)\n",
        "rf.fit(X_train, y_train)\n",
        "rf.score(X_test, y_test)"
      ],
      "metadata": {
        "id": "KBWUMqv1N84d"
      },
      "execution_count": null,
      "outputs": []
    },
    {
      "cell_type": "markdown",
      "source": [
        "DT"
      ],
      "metadata": {
        "id": "4uO5o5s8NLIZ"
      }
    },
    {
      "cell_type": "code",
      "source": [
        "dt = DecisionTreeClassifier()\n",
        "dt.fit(X_train, y_train)\n",
        "dt.score(X_test, y_test)"
      ],
      "metadata": {
        "id": "OthkdkZpODWk"
      },
      "execution_count": null,
      "outputs": []
    },
    {
      "cell_type": "markdown",
      "source": [
        "SVM"
      ],
      "metadata": {
        "id": "nk3XU17eNLOq"
      }
    },
    {
      "cell_type": "code",
      "source": [
        "svm = SVC(gamma='scale')\n",
        "svm.fit(X_train, y_train)\n",
        "svm.score(X_test, y_test)"
      ],
      "metadata": {
        "id": "yVq9WPcONlKb"
      },
      "execution_count": null,
      "outputs": []
    },
    {
      "cell_type": "markdown",
      "source": [
        "# **feature selection using SHAP**"
      ],
      "metadata": {
        "id": "yM4vw2Iuaa9c"
      }
    },
    {
      "cell_type": "markdown",
      "source": [
        "**XGBoost**"
      ],
      "metadata": {
        "id": "u3SDxfjSccwq"
      }
    },
    {
      "cell_type": "code",
      "source": [
        "model = XGBRegressor(n_estimators=1000, max_depth=10, learning_rate=0.001)\n",
        "# Fit the Model\n",
        "model.fit(X, Y)"
      ],
      "metadata": {
        "id": "m4mXLfcoa9fs"
      },
      "execution_count": null,
      "outputs": []
    },
    {
      "cell_type": "code",
      "source": [
        "explainer = shap.TreeExplainer(model)\n",
        "shap_values = explainer.shap_values(X)\n",
        "shap.summary_plot(shap_values, features=X, feature_names=X.columns)\n"
      ],
      "metadata": {
        "id": "6euKbYRoa9lm"
      },
      "execution_count": null,
      "outputs": []
    },
    {
      "cell_type": "code",
      "source": [
        "# top 10 important features\n",
        "imp=da[[\"Age\", \"Intubation\", \"rate Po2\", \"Other chronic diseases\",\n",
        "       \"Condition when entering the hospital\", \"hospital duration\", \"Cough\",\n",
        "       \"myalgia or fatigue\", \"Shortness of breath\",\n",
        "       \"Fever\",\"gender\",\"death\"]]\n",
        "imp\n"
      ],
      "metadata": {
        "id": "de18Zqc_Um5P"
      },
      "execution_count": null,
      "outputs": []
    },
    {
      "cell_type": "code",
      "source": [
        "xgb_imp_out = imp['death']\n",
        "xgb_imp_input = imp[[i for i in imp.columns if i!='death' and imp[i].dtype in [np.int64, np.float64, np.object]]]"
      ],
      "metadata": {
        "id": "z_ug4nxAWp4Z"
      },
      "execution_count": null,
      "outputs": []
    },
    {
      "cell_type": "code",
      "source": [
        "xgb_imp_input.describe"
      ],
      "metadata": {
        "id": "3PtM_q_tWp77"
      },
      "execution_count": null,
      "outputs": []
    },
    {
      "cell_type": "code",
      "source": [
        "xg = XGBClassifier(n_estimators=1000, max_depth=10, learning_rate=0.001)\n",
        "# Fit the Model\n",
        "xg.fit( xgb_imp_input, xgb_imp_out)\n",
        "xg.score( xgb_imp_input, xgb_imp_out)"
      ],
      "metadata": {
        "id": "s-_OQ-3bcmE-"
      },
      "execution_count": null,
      "outputs": []
    },
    {
      "cell_type": "code",
      "source": [
        "from sklearn.model_selection import train_test_split\n",
        "im_train, im_test, out_train, out_test = train_test_split(\n",
        "    xgb_imp_input,\n",
        "     xgb_imp_out,\n",
        "    test_size=0.25,random_state = 42)"
      ],
      "metadata": {
        "id": "oVrazx2eYf1Z"
      },
      "execution_count": null,
      "outputs": []
    },
    {
      "cell_type": "code",
      "source": [
        "xg = XGBClassifier(n_estimators=1000, max_depth=10, learning_rate=0.001)\n",
        "# Fit the Model\n",
        "\n",
        "xg.fit( im_train, out_train)\n",
        "xg.score( im_test, out_test)\n",
        "\n"
      ],
      "metadata": {
        "id": "IMuwAGeGXFnI"
      },
      "execution_count": null,
      "outputs": []
    },
    {
      "cell_type": "markdown",
      "source": [
        "**LR**"
      ],
      "metadata": {
        "id": "pn586nF-ckgr"
      }
    },
    {
      "cell_type": "code",
      "source": [
        "model = LogisticRegression(penalty = 'l2',\n",
        "\t  C = 1.0,\n",
        "\t  n_jobs = -1,\n",
        "\t  multi_class = 'auto',\n",
        "\t  solver = 'lbfgs')\n",
        "model.fit(X, Y)"
      ],
      "metadata": {
        "id": "F0rMTAT3c2he"
      },
      "execution_count": null,
      "outputs": []
    },
    {
      "cell_type": "code",
      "source": [
        "explainer = shap.LinearExplainer(model,X)\n",
        "shap_values = explainer.shap_values(X)\n",
        "shap.summary_plot(shap_values, features=X, feature_names=X.columns)"
      ],
      "metadata": {
        "id": "YAOrSURma9om"
      },
      "execution_count": null,
      "outputs": []
    },
    {
      "cell_type": "code",
      "source": [
        "# top 10 important features\n",
        "imp=da[[\"Age\", \"Intubation\", \"rate Po2\", \"Other chronic diseases\",\n",
        "       \"sample for test\", \"Heart disease\", \"Cough\",\n",
        "       \"Diabetes\", \"Shortness of breath\",\n",
        "       \"gender\",\"death\"]]\n",
        "imp"
      ],
      "metadata": {
        "id": "1kArafOc_Fhx"
      },
      "execution_count": null,
      "outputs": []
    },
    {
      "cell_type": "code",
      "source": [
        "lr_imp_out = imp['death']\n",
        "lr_imp_input = imp[[i for i in imp.columns if i!='death' and imp[i].dtype in [np.int64, np.float64, np.object]]]"
      ],
      "metadata": {
        "id": "DORBaKVl_LF9"
      },
      "execution_count": null,
      "outputs": []
    },
    {
      "cell_type": "code",
      "source": [
        "model = LogisticRegression(solver='newton-cg',multi_class='ovr',max_iter=100, fit_intercept= True)\n",
        "model.fit(lr_imp_input, lr_imp_out)"
      ],
      "metadata": {
        "id": "5oqmV8WT_cGQ"
      },
      "execution_count": null,
      "outputs": []
    },
    {
      "cell_type": "code",
      "source": [
        "model.score(lr_imp_input, lr_imp_out)"
      ],
      "metadata": {
        "id": "1STL4ycNAHIG"
      },
      "execution_count": null,
      "outputs": []
    },
    {
      "cell_type": "code",
      "source": [
        "from sklearn.model_selection import train_test_split\n",
        "im_train, im_test, out_train, out_test = train_test_split(\n",
        "    lr_imp_input,\n",
        "    lr_imp_out,\n",
        "    test_size=0.25,random_state = 42)"
      ],
      "metadata": {
        "id": "vj2KFFTb_LJj"
      },
      "execution_count": null,
      "outputs": []
    },
    {
      "cell_type": "code",
      "source": [
        "model = LogisticRegression(solver='newton-cg',multi_class='ovr',max_iter=100, fit_intercept= True)\n",
        "model.fit( im_train, out_train)\n",
        "model.score( im_test, out_test)"
      ],
      "metadata": {
        "id": "G_foGAwsApsE"
      },
      "execution_count": null,
      "outputs": []
    },
    {
      "cell_type": "markdown",
      "source": [
        "data slipt"
      ],
      "metadata": {
        "id": "A7EO3jq4oFtz"
      }
    },
    {
      "cell_type": "code",
      "source": [
        "Y = da['death']\n",
        "X = da[[i for i in da.columns if i!='death' and da[i].dtype in [np.int64, np.float64, np.object]]]"
      ],
      "metadata": {
        "id": "kODSBhHxpDFM"
      },
      "execution_count": null,
      "outputs": []
    },
    {
      "cell_type": "code",
      "source": [
        "X_train, X_test, Y_train, Y_test = train_test_split(X, Y, test_size = 0.1)"
      ],
      "metadata": {
        "id": "MCI2-rDcoMTz"
      },
      "execution_count": null,
      "outputs": []
    },
    {
      "cell_type": "markdown",
      "source": [
        "SVM"
      ],
      "metadata": {
        "id": "5P5rdtCHmPwi"
      }
    },
    {
      "cell_type": "code",
      "source": [
        "# Build the SVM model\n",
        "from sklearn import svm\n",
        "svm = svm.SVC(gamma='scale',decision_function_shape='ovo')\n",
        "svm.fit(X_train, Y_train)\n",
        "# The SHAP values\n",
        "svm_explainer = shap.KernelExplainer(svm.predict,X_test)\n",
        "svm_shap_values = svm_explainer.shap_values(X_test)"
      ],
      "metadata": {
        "id": "hvyT9ZzCmQ2o"
      },
      "execution_count": null,
      "outputs": []
    },
    {
      "cell_type": "code",
      "source": [
        "shap.summary_plot(svm_shap_values, X_test)"
      ],
      "metadata": {
        "id": "pn5BWGNqmVnS"
      },
      "execution_count": null,
      "outputs": []
    },
    {
      "cell_type": "code",
      "source": [
        "da = pd.read_csv(\"/content/drive/MyDrive/thesis/project/Gsesir_Copy.csv\")\n",
        "da"
      ],
      "metadata": {
        "id": "siFYNWj8ESjS"
      },
      "execution_count": null,
      "outputs": []
    },
    {
      "cell_type": "code",
      "source": [
        "# top 10 important features\n",
        "imp=da[[\"Age\", \"Intubation\", \"rate Po2\", \"Immune Deficiency (Acquired or Congenital)\",\n",
        "       \"HIV/AIDS\", \"Heart disease\", \"Liver disease\",\n",
        "       \"Diabetes\", \"Shortness of breath\",\n",
        "       \"gender\",\"death\"]]\n",
        "imp"
      ],
      "metadata": {
        "id": "wG8RsI65C2cx"
      },
      "execution_count": null,
      "outputs": []
    },
    {
      "cell_type": "code",
      "source": [
        "svm_imp_out = imp['death']\n",
        "svm_imp_input = imp[[i for i in imp.columns if i!='death' and imp[i].dtype in [np.int64, np.float64, np.object]]]"
      ],
      "metadata": {
        "id": "iwyl3ZXCC-VE"
      },
      "execution_count": null,
      "outputs": []
    },
    {
      "cell_type": "code",
      "source": [
        "model = SVC(gamma='scale',decision_function_shape='ovo')\n",
        "model.fit(svm_imp_input, svm_imp_out)\n",
        "model.score(svm_imp_input, svm_imp_out)"
      ],
      "metadata": {
        "id": "mbBJFwirC-Xd"
      },
      "execution_count": null,
      "outputs": []
    },
    {
      "cell_type": "markdown",
      "source": [
        "KNN"
      ],
      "metadata": {
        "id": "gaBI8xr7dhz2"
      }
    },
    {
      "cell_type": "code",
      "source": [
        "# Train the KNN model\n",
        "from sklearn import neighbors\n",
        "n_neighbors = 15\n",
        "knn = neighbors.KNeighborsClassifier(n_neighbors,weights='distance')\n",
        "knn.fit(X_train, Y_train)\n",
        "# Produce the SHAP values\n",
        "knn_explainer = shap.KernelExplainer(knn.predict,X_test)\n",
        "knn_shap_values = knn_explainer.shap_values(X_test)"
      ],
      "metadata": {
        "id": "Tq3cl2A4djUc"
      },
      "execution_count": null,
      "outputs": []
    },
    {
      "cell_type": "code",
      "source": [
        "shap.summary_plot(knn_shap_values, X_test)"
      ],
      "metadata": {
        "id": "G4KYubVXhpeJ"
      },
      "execution_count": null,
      "outputs": []
    },
    {
      "cell_type": "code",
      "source": [
        "da = pd.read_csv(\"/content/drive/MyDrive/thesis/project/Gsesir_Copy.csv\")\n",
        "da"
      ],
      "metadata": {
        "id": "aGzhoK8iF1Z9"
      },
      "execution_count": null,
      "outputs": []
    },
    {
      "cell_type": "code",
      "source": [
        "# top 10 important features\n",
        "imp=da[[\"Age\",\"hospital duration\", \"rate Po2\", \"Fever\",\n",
        "       \"cantact coronadisease\", \"Heart disease\", \"Other chronic diseases\",\n",
        "       \"Diabetes\", \"Shortness of breath\",\n",
        "       \"gender\",\"death\"]]\n",
        "imp"
      ],
      "metadata": {
        "id": "rOl39SlbF1dh"
      },
      "execution_count": null,
      "outputs": []
    },
    {
      "cell_type": "code",
      "source": [
        "knn_imp_out = imp['death']\n",
        "knn_imp_input = imp[[i for i in imp.columns if i!='death' and imp[i].dtype in [np.int64, np.float64, np.object]]]"
      ],
      "metadata": {
        "id": "OFiSe1-QF1ia"
      },
      "execution_count": null,
      "outputs": []
    },
    {
      "cell_type": "code",
      "source": [
        "from sklearn import neighbors\n",
        "n_neighbors = 15\n",
        "knn = neighbors.KNeighborsClassifier(n_neighbors,weights='distance')\n",
        "knn.fit(knn_imp_input, knn_imp_out)\n",
        "knn.score(knn_imp_input, knn_imp_out)"
      ],
      "metadata": {
        "id": "Ls5zsBlzF1hD"
      },
      "execution_count": null,
      "outputs": []
    },
    {
      "cell_type": "markdown",
      "source": [
        "Decision Tree"
      ],
      "metadata": {
        "id": "TuqhzSPCNhg1"
      }
    },
    {
      "cell_type": "code",
      "source": [
        "dt = DecisionTreeClassifier()\n",
        "dt.fit(X_train, Y_train)\n",
        "# Produce the SHAP values\n",
        "\n",
        "dt_explainer = shap.KernelExplainer(dt.predict, X_test)\n",
        "dt_shap_values = dt_explainer.shap_values(X_test)"
      ],
      "metadata": {
        "id": "G9MTh-ChNj3R"
      },
      "execution_count": null,
      "outputs": []
    },
    {
      "cell_type": "code",
      "source": [
        "shap.summary_plot(dt_shap_values, X_test)"
      ],
      "metadata": {
        "id": "2UOLUGjWPljX"
      },
      "execution_count": null,
      "outputs": []
    },
    {
      "cell_type": "code",
      "source": [
        "da = pd.read_csv(\"/content/drive/MyDrive/thesis/project/Gsesir_Copy.csv\")\n",
        "da"
      ],
      "metadata": {
        "id": "9cFZcpaNIg3R"
      },
      "execution_count": null,
      "outputs": []
    },
    {
      "cell_type": "code",
      "source": [
        "# top 10 important features\n",
        "imp=da[[\"Age\",\"hospital duration\", \"rate Po2\", \"Fever\",\n",
        "       \"cantact coronadisease\", \"Heart disease\", \"Other chronic diseases\",\n",
        "       \"Loss of consciousness\", \"Shortness of breath\",\n",
        "       \"myalgia or fatigue\",\"death\"]]\n",
        "imp"
      ],
      "metadata": {
        "id": "rkrFe1J4Ig6E"
      },
      "execution_count": null,
      "outputs": []
    },
    {
      "cell_type": "code",
      "source": [
        "dt_imp_out = imp['death']\n",
        "dt_imp_input = imp[[i for i in imp.columns if i!='death' and imp[i].dtype in [np.int64, np.float64, np.object]]]"
      ],
      "metadata": {
        "id": "EkP34EB-Ig8i"
      },
      "execution_count": null,
      "outputs": []
    },
    {
      "cell_type": "code",
      "source": [
        "from sklearn.model_selection import train_test_split\n",
        "im_train, im_test, out_train, out_test = train_test_split(\n",
        "    dt_imp_input,\n",
        "    dt_imp_out,\n",
        "    test_size=0.20,random_state = 42)"
      ],
      "metadata": {
        "id": "w0IcutjpJ0Ng"
      },
      "execution_count": null,
      "outputs": []
    },
    {
      "cell_type": "code",
      "source": [
        "dt = DecisionTreeClassifier()\n",
        "\n",
        "dt.fit(im_train, out_train)\n",
        "dt.score(im_test,out_test)"
      ],
      "metadata": {
        "id": "kZdmvWesIg-U"
      },
      "execution_count": null,
      "outputs": []
    },
    {
      "cell_type": "code",
      "source": [
        ""
      ],
      "metadata": {
        "id": "kXvBhdoZIhBy"
      },
      "execution_count": null,
      "outputs": []
    },
    {
      "cell_type": "markdown",
      "source": [
        "Random Forest"
      ],
      "metadata": {
        "id": "XrJ-CpVdPvi4"
      }
    },
    {
      "cell_type": "code",
      "source": [
        "# Random Forest\n",
        "random_forest = RandomForestClassifier(n_estimators=100)\n",
        "random_forest.fit(X_train, Y_train)\n",
        "random_forest_preds = random_forest.predict(X_test)\n",
        "print('The accuracy of the Random Forests model is :\\t',metrics.accuracy_score(random_forest_preds,Y_test))"
      ],
      "metadata": {
        "id": "X_Xvaf9wPyLH"
      },
      "execution_count": null,
      "outputs": []
    },
    {
      "cell_type": "code",
      "source": [
        "rf_explainer = shap.TreeExplainer(random_forest)\n",
        "rf_shap_values = rf_explainer.shap_values(X_test)\n"
      ],
      "metadata": {
        "id": "_UwlllxlPyOt"
      },
      "execution_count": null,
      "outputs": []
    },
    {
      "cell_type": "code",
      "source": [
        "shap.summary_plot(rf_shap_values, X_test)"
      ],
      "metadata": {
        "id": "tz230NgxQ1p8"
      },
      "execution_count": null,
      "outputs": []
    },
    {
      "cell_type": "markdown",
      "source": [
        "#**importance Features find by shap accuracy test**"
      ],
      "metadata": {
        "id": "r_vERUstSyZX"
      }
    },
    {
      "cell_type": "markdown",
      "source": [
        "# Feature importance"
      ],
      "metadata": {
        "id": "gw87KYR3LuHG"
      }
    },
    {
      "cell_type": "code",
      "source": [
        "# selecting rows based on condition\n",
        "age_to_34 = da.loc[da['Age'] <= 34]\n",
        "  \n",
        "age_to_34.sort_values(\"Age\")"
      ],
      "metadata": {
        "id": "CMdW0M9F10XE"
      },
      "execution_count": null,
      "outputs": []
    },
    {
      "cell_type": "code",
      "source": [
        "# pandas count distinct values in column\n",
        "age_to_34['death'].value_counts()"
      ],
      "metadata": {
        "id": "5X7qkG2A7BZ-"
      },
      "execution_count": null,
      "outputs": []
    },
    {
      "cell_type": "code",
      "source": [
        "Y = age_to_34['death']\n",
        "X = age_to_34[[i for i in age_to_34.columns if i!='death' and age_to_34[i].dtype in [np.int64, np.float64, np.object]]]"
      ],
      "metadata": {
        "id": "_Lg_U_K1K31D"
      },
      "execution_count": null,
      "outputs": []
    },
    {
      "cell_type": "markdown",
      "source": [
        "**Random Forest**"
      ],
      "metadata": {
        "id": "qriLZmLFKWZc"
      }
    },
    {
      "cell_type": "code",
      "source": [
        "rfc = RandomForestClassifier()\n",
        "rfc.fit(X,Y)"
      ],
      "metadata": {
        "id": "9H7aQlV678pR"
      },
      "execution_count": null,
      "outputs": []
    },
    {
      "cell_type": "code",
      "source": [
        "feat_imp = pd.DataFrame({\"Feature Name\": X.columns , \"Importance\": list(rfc.feature_importances_)})\n",
        "feat_imp.sort_values([\"Importance\"], ascending= False)"
      ],
      "metadata": {
        "id": "mOiL_n6EK4Bx"
      },
      "execution_count": null,
      "outputs": []
    },
    {
      "cell_type": "markdown",
      "source": [
        "**Decission Tree**"
      ],
      "metadata": {
        "id": "rIRYcJm4M5fS"
      }
    },
    {
      "cell_type": "code",
      "source": [
        "dt = DecisionTreeClassifier()\n",
        "dt.fit(X, Y)"
      ],
      "metadata": {
        "id": "hHczwwcNM43r"
      },
      "execution_count": null,
      "outputs": []
    },
    {
      "cell_type": "code",
      "source": [
        "feat_imp = pd.DataFrame({\"Feature Name\": X.columns , \"Importance\": list(dt.feature_importances_)})\n",
        "feat_imp.sort_values([\"Importance\"], ascending= False)"
      ],
      "metadata": {
        "id": "ilPZ82owNFOq"
      },
      "execution_count": null,
      "outputs": []
    },
    {
      "cell_type": "markdown",
      "source": [
        "XGBoost"
      ],
      "metadata": {
        "id": "-fEiLB6ENqQ5"
      }
    },
    {
      "cell_type": "code",
      "source": [
        "xg = XGBClassifier(eta = 0.1,\n",
        "\t max_depth = 10,\n",
        "\t min_child_weight = 5,\n",
        "\t n_estimators = 100,\n",
        "\t n_jobs = 1)\n",
        "\n",
        "xg.fit(X,Y)"
      ],
      "metadata": {
        "id": "6bGHe781OAzU"
      },
      "execution_count": null,
      "outputs": []
    },
    {
      "cell_type": "code",
      "source": [
        "feat_imp = pd.DataFrame({\"Feature Name\": X.columns , \"Importance\": list(xg.feature_importances_)})\n",
        "feat_imp.sort_values([\"Importance\"], ascending= False)"
      ],
      "metadata": {
        "id": "Yl37UWT0OA2x"
      },
      "execution_count": null,
      "outputs": []
    },
    {
      "cell_type": "markdown",
      "source": [
        "XGB"
      ],
      "metadata": {
        "id": "v6A-BZ1BM-G6"
      }
    },
    {
      "cell_type": "code",
      "source": [
        "#X_train, X_test, Y_train, y_test = train_test_split(X, Y, test_size=0.25, random_state=12)\n",
        "train_X, val_X, train_Y, val_Y = train_test_split(X, Y, test_size=0.25, random_state = 1)"
      ],
      "metadata": {
        "id": "BCtslN33J0ym"
      },
      "execution_count": null,
      "outputs": []
    },
    {
      "cell_type": "code",
      "source": [
        "xgbr = XGBRegressor()\n",
        "scaler = StandardScaler()\n",
        "train_X_scaled = scaler.fit_transform(train_X)\n",
        "val_X_scaled = scaler.fit_transform(val_X)\n",
        "val_X_mean = scaler.mean_\n",
        "val_X_std = scaler.var_**(1/2)"
      ],
      "metadata": {
        "id": "C-1KXC1zM9ih"
      },
      "execution_count": null,
      "outputs": []
    },
    {
      "cell_type": "code",
      "source": [
        "xgb_model = xgbr.fit(train_X_scaled,train_Y)"
      ],
      "metadata": {
        "id": "O0CDg_SRJc66"
      },
      "execution_count": null,
      "outputs": []
    },
    {
      "cell_type": "code",
      "source": [
        "feat_imp = pd.DataFrame({\"Feature Name\": X.columns , \"Importance\": list(xgbr.feature_importances_)})\n",
        "feat_imp.sort_values([\"Importance\"], ascending= False)\n"
      ],
      "metadata": {
        "id": "Rcjo0GeySgNo"
      },
      "execution_count": null,
      "outputs": []
    },
    {
      "cell_type": "code",
      "source": [
        "explainer = shap.TreeExplainer(xgb_model, val_X_scaled)\n",
        "shap_values = explainer.shap_values(val_X_scaled)\n",
        "shap.summary_plot(shap_values, val_X_scaled)"
      ],
      "metadata": {
        "id": "CsF2l341NPe-"
      },
      "execution_count": null,
      "outputs": []
    },
    {
      "cell_type": "code",
      "source": [
        "shap.summary_plot(shap_values, val_X, plot_type=\"bar\")"
      ],
      "metadata": {
        "id": "dVed7ZIzNPsP"
      },
      "execution_count": null,
      "outputs": []
    },
    {
      "cell_type": "code",
      "source": [
        "shap.dependence_plot(\"Shortness of breath\", shap_values,val_X)"
      ],
      "metadata": {
        "id": "rXl3FiiodJhP"
      },
      "execution_count": null,
      "outputs": []
    },
    {
      "cell_type": "markdown",
      "source": [
        "Logistic Regression"
      ],
      "metadata": {
        "id": "Jz4WCe5CR2fE"
      }
    },
    {
      "cell_type": "code",
      "source": [
        "model = LogisticRegression(penalty = 'l2',\n",
        "\t  C = 1.0,\n",
        "\t  n_jobs = -1,\n",
        "\t  multi_class = 'auto',\n",
        "\t  solver = 'lbfgs')\n",
        "model.fit(train_X, train_Y)"
      ],
      "metadata": {
        "id": "cbOSW3yfSMiY"
      },
      "execution_count": null,
      "outputs": []
    },
    {
      "cell_type": "code",
      "source": [
        "explainer = shap.LinearExplainer(model,val_X)\n",
        "shap_values = explainer.shap_values(val_X)\n",
        "shap.summary_plot(shap_values, val_X)"
      ],
      "metadata": {
        "id": "zCmyN6nkXPOG"
      },
      "execution_count": null,
      "outputs": []
    },
    {
      "cell_type": "markdown",
      "source": [
        "SVC"
      ],
      "metadata": {
        "id": "yLBrxbIjgemi"
      }
    },
    {
      "cell_type": "code",
      "source": [
        "sc = StandardScaler()\n",
        "sc.fit(train_X)\n",
        "X_train_std = sc.transform(train_X)\n",
        "X_test_std = sc.transform(val_X)"
      ],
      "metadata": {
        "id": "Z_h-A53_gbu8"
      },
      "execution_count": null,
      "outputs": []
    },
    {
      "cell_type": "code",
      "source": [
        "# Instantiate the Support Vector Classifier (SVC)\n",
        "svc = SVC(C=1.0, random_state=1, kernel='linear')\n",
        " \n",
        "# Fit the model\n",
        "svc.fit(X_train_std, train_Y)"
      ],
      "metadata": {
        "id": "5BS5mT6Xgf5Z"
      },
      "execution_count": null,
      "outputs": []
    },
    {
      "cell_type": "code",
      "source": [
        "subset_to_explain_scaled = X_test_std\n",
        "explainer = shap.KernelExplainer(svc.predict, subset_to_explain_scaled)\n",
        "shap_values = explainer.shap_values(subset_to_explain_scaled)\n",
        "shap.summary_plot(shap_values, subset_to_explain_scaled)"
      ],
      "metadata": {
        "id": "xnW5v8kuOSjE"
      },
      "execution_count": null,
      "outputs": []
    },
    {
      "cell_type": "markdown",
      "source": [
        "LR"
      ],
      "metadata": {
        "id": "-R5pBAcCEONv"
      }
    },
    {
      "cell_type": "code",
      "source": [
        "lr = LogisticRegression(solver='newton-cg',multi_class='ovr',max_iter=100, fit_intercept= True)\n",
        "lr.fit(train_X, train_Y)\n",
        "lr.score(val_X, val_Y)"
      ],
      "metadata": {
        "id": "_bozgVfBEBln"
      },
      "execution_count": null,
      "outputs": []
    },
    {
      "cell_type": "markdown",
      "source": [
        "SVM"
      ],
      "metadata": {
        "id": "s8u41zywEXUs"
      }
    },
    {
      "cell_type": "code",
      "source": [
        "svm = SVC(gamma='scale')\n",
        "svm.fit(train_X, train_Y)\n",
        "svm.score(val_X, val_Y)"
      ],
      "metadata": {
        "id": "FkE-QFgoEZAk"
      },
      "execution_count": null,
      "outputs": []
    },
    {
      "cell_type": "markdown",
      "source": [
        "RF"
      ],
      "metadata": {
        "id": "cS_23WrwEe_C"
      }
    },
    {
      "cell_type": "code",
      "source": [
        "rf = RandomForestClassifier(n_estimators=20)\n",
        "rf.fit(train_X, train_Y)\n",
        "rf.score(val_X, val_Y)"
      ],
      "metadata": {
        "id": "1GQAMlh4Eghs"
      },
      "execution_count": null,
      "outputs": []
    },
    {
      "cell_type": "markdown",
      "source": [
        "DT"
      ],
      "metadata": {
        "id": "Fp3TY7AnFMPN"
      }
    },
    {
      "cell_type": "code",
      "source": [
        ""
      ],
      "metadata": {
        "id": "vwWbX1bnFNUJ"
      },
      "execution_count": null,
      "outputs": []
    },
    {
      "cell_type": "markdown",
      "source": [
        "XGBoost"
      ],
      "metadata": {
        "id": "BanCCk1qFNsd"
      }
    },
    {
      "cell_type": "code",
      "source": [
        "xgbr = XGBRegressor()\n",
        "xgbr.fit(train_X, train_Y)\n",
        "xgbr.score(val_X, val_Y)"
      ],
      "metadata": {
        "id": "OzXX0uIvFPM7"
      },
      "execution_count": null,
      "outputs": []
    },
    {
      "cell_type": "markdown",
      "source": [
        "# **After 34 age**"
      ],
      "metadata": {
        "id": "B28BZbloK41r"
      }
    },
    {
      "cell_type": "code",
      "source": [
        "# selecting rows based on condition\n",
        "age_after_34 = da.loc[(da['Age'] > 34) & (da['Age']<=47)]\n",
        "age_after_34.sort_values(\"Age\")"
      ],
      "metadata": {
        "id": "B5gNZqu72bPp"
      },
      "execution_count": null,
      "outputs": []
    },
    {
      "cell_type": "code",
      "source": [
        "# pandas count distinct values in column\n",
        "age_after_34['death'].value_counts()"
      ],
      "metadata": {
        "id": "_1q2VDmS7VQE"
      },
      "execution_count": null,
      "outputs": []
    },
    {
      "cell_type": "code",
      "source": [
        "Y = age_after_34['death']\n",
        "X = age_after_34[[i for i in age_after_34.columns if i!='death' and age_after_34[i].dtype in [np.int64, np.float64, np.object]]]"
      ],
      "metadata": {
        "id": "3Hui23Gpg8rT"
      },
      "execution_count": null,
      "outputs": []
    },
    {
      "cell_type": "markdown",
      "source": [
        "**Random** **Forest**"
      ],
      "metadata": {
        "id": "2EO13HyAhY9l"
      }
    },
    {
      "cell_type": "code",
      "source": [
        "rfc = RandomForestClassifier()\n",
        "rfc.fit(X,Y)"
      ],
      "metadata": {
        "id": "cXmnKtBgg8tj"
      },
      "execution_count": null,
      "outputs": []
    },
    {
      "cell_type": "code",
      "source": [
        "feat_imp = pd.DataFrame({\"Feature Name\": X.columns , \"Importance\": list(rfc.feature_importances_)})\n",
        "feat_imp.sort_values([\"Importance\"], ascending= False)"
      ],
      "metadata": {
        "id": "wbp2iAk8g8v1"
      },
      "execution_count": null,
      "outputs": []
    },
    {
      "cell_type": "markdown",
      "source": [
        "**Decision Tree**"
      ],
      "metadata": {
        "id": "dWdb8AX4hoEM"
      }
    },
    {
      "cell_type": "code",
      "source": [
        "dt = DecisionTreeClassifier()\n",
        "dt.fit(X,Y)"
      ],
      "metadata": {
        "id": "ZcCYbaIpg80p"
      },
      "execution_count": null,
      "outputs": []
    },
    {
      "cell_type": "code",
      "source": [
        "feat_imp = pd.DataFrame({\"Feature Name\": X.columns , \"Importance\": list(dt.feature_importances_)})\n",
        "feat_imp.sort_values([\"Importance\"], ascending= False)"
      ],
      "metadata": {
        "id": "Tq9BIARrg82z"
      },
      "execution_count": null,
      "outputs": []
    },
    {
      "cell_type": "markdown",
      "source": [
        "XGBoost Classifier"
      ],
      "metadata": {
        "id": "vXlpZIDoh5AV"
      }
    },
    {
      "cell_type": "code",
      "source": [
        "xg = XGBClassifier(eta = 0.1,\n",
        "\t max_depth = 10,\n",
        "\t min_child_weight = 5,\n",
        "\t n_estimators = 100,\n",
        "\t n_jobs = 1)\n",
        "\n",
        "xg.fit(X,Y)"
      ],
      "metadata": {
        "id": "q1hsTrs2g872"
      },
      "execution_count": null,
      "outputs": []
    },
    {
      "cell_type": "code",
      "source": [
        "feat_imp = pd.DataFrame({\"Feature Name\": X.columns , \"Importance\": list(xg.feature_importances_)})\n",
        "feat_imp.sort_values([\"Importance\"], ascending= False)"
      ],
      "metadata": {
        "id": "V7QI76Leg8-b"
      },
      "execution_count": null,
      "outputs": []
    },
    {
      "cell_type": "markdown",
      "source": [
        "Data Slipt"
      ],
      "metadata": {
        "id": "cmDPDvyciLqU"
      }
    },
    {
      "cell_type": "code",
      "source": [
        "#X_train, X_test, Y_train, y_test = train_test_split(X, Y, test_size=0.25, random_state=12)\n",
        "train_X, val_X, train_Y, val_Y = train_test_split(X, Y, test_size=0.25, random_state = 1)"
      ],
      "metadata": {
        "id": "xOHnyOMsg9Al"
      },
      "execution_count": null,
      "outputs": []
    },
    {
      "cell_type": "markdown",
      "source": [
        "**LR**"
      ],
      "metadata": {
        "id": "M2g7TpCXiQF3"
      }
    },
    {
      "cell_type": "code",
      "source": [
        "model = LogisticRegression(penalty = 'l2',\n",
        "\t  C = 1.0,\n",
        "\t  n_jobs = -1,\n",
        "\t  multi_class = 'auto',\n",
        "\t  solver = 'lbfgs')\n",
        "model.fit(train_X, train_Y)"
      ],
      "metadata": {
        "id": "JWLjGLa3g9D-"
      },
      "execution_count": null,
      "outputs": []
    },
    {
      "cell_type": "code",
      "source": [
        "explainer = shap.LinearExplainer(model,val_X)\n",
        "shap_values = explainer.shap_values(val_X)\n",
        "shap.summary_plot(shap_values, val_X)"
      ],
      "metadata": {
        "id": "0jBnOZFciX00"
      },
      "execution_count": null,
      "outputs": []
    },
    {
      "cell_type": "markdown",
      "source": [
        "**Support Vector classifier**"
      ],
      "metadata": {
        "id": "OqSsESJ2iiYP"
      }
    },
    {
      "cell_type": "code",
      "source": [
        "sc = StandardScaler()\n",
        "sc.fit(train_X)\n",
        "X_train_std = sc.transform(train_X)\n",
        "X_test_std = sc.transform(val_X)"
      ],
      "metadata": {
        "id": "Y_bz4xX6iYWA"
      },
      "execution_count": null,
      "outputs": []
    },
    {
      "cell_type": "code",
      "source": [
        "# Instantiate the Support Vector Classifier (SVC)\n",
        "svc = SVC(C=1.0, random_state=1, kernel='linear')\n",
        " \n",
        "# Fit the model\n",
        "svc.fit(X_train_std, train_Y)"
      ],
      "metadata": {
        "id": "4Mvhnl7NiYZj"
      },
      "execution_count": null,
      "outputs": []
    },
    {
      "cell_type": "code",
      "source": [
        "subset_to_explain_scaled = X_test_std\n",
        "explainer = shap.KernelExplainer(svc.predict, subset_to_explain_scaled)\n",
        "shap_values = explainer.shap_values(subset_to_explain_scaled)\n",
        "shap.summary_plot(shap_values, subset_to_explain_scaled)"
      ],
      "metadata": {
        "id": "ltoVaf9niYIX"
      },
      "execution_count": null,
      "outputs": []
    },
    {
      "cell_type": "code",
      "source": [
        "# Make the predictions\n",
        "y_pred = svc.predict(X_test_std)\n",
        " \n",
        "# Measure the performance\n",
        "print(\"Accuracy score %.3f\" %metrics.accuracy_score(val_Y, y_pred))"
      ],
      "metadata": {
        "id": "7fa4I0I_jopR"
      },
      "execution_count": null,
      "outputs": []
    },
    {
      "cell_type": "markdown",
      "source": [
        "# **After 47**"
      ],
      "metadata": {
        "id": "MuGDmqxtghMQ"
      }
    },
    {
      "cell_type": "code",
      "source": [
        "# selecting rows based on condition\n",
        "age_after_47 = da.loc[(da['Age'] > 47) & (da['Age']<=64)]\n",
        "age_after_47.sort_values(\"Age\")"
      ],
      "metadata": {
        "id": "Kws1NpMW2bRs"
      },
      "execution_count": null,
      "outputs": []
    },
    {
      "cell_type": "code",
      "source": [
        "# pandas count distinct values in column\n",
        "age_after_47['death'].value_counts()"
      ],
      "metadata": {
        "id": "O_8Rqxtb7f-F"
      },
      "execution_count": null,
      "outputs": []
    },
    {
      "cell_type": "code",
      "source": [
        "Y = age_after_47['death']\n",
        "X = age_after_47[[i for i in age_after_47.columns if i!='death' and age_after_47[i].dtype in [np.int64, np.float64, np.object]]]"
      ],
      "metadata": {
        "id": "w3mtuvo1kG_Z"
      },
      "execution_count": null,
      "outputs": []
    },
    {
      "cell_type": "markdown",
      "source": [
        "Random Forest"
      ],
      "metadata": {
        "id": "b5yx0s--j4Z8"
      }
    },
    {
      "cell_type": "code",
      "source": [
        "rfc = RandomForestClassifier()\n",
        "rfc.fit(X,Y)"
      ],
      "metadata": {
        "id": "po6A1anbkb7m"
      },
      "execution_count": null,
      "outputs": []
    },
    {
      "cell_type": "code",
      "source": [
        "feat_imp = pd.DataFrame({\"Feature Name\": X.columns , \"Importance\": list(rfc.feature_importances_)})\n",
        "feat_imp.sort_values([\"Importance\"], ascending= False)"
      ],
      "metadata": {
        "id": "XKst81afkb_J"
      },
      "execution_count": null,
      "outputs": []
    },
    {
      "cell_type": "markdown",
      "source": [
        "DT"
      ],
      "metadata": {
        "id": "eHyi0vyIj9tq"
      }
    },
    {
      "cell_type": "code",
      "source": [
        "dt = DecisionTreeClassifier()\n",
        "dt.fit(X,Y)"
      ],
      "metadata": {
        "id": "Qq50EoAhkjZg"
      },
      "execution_count": null,
      "outputs": []
    },
    {
      "cell_type": "code",
      "source": [
        "feat_imp = pd.DataFrame({\"Feature Name\": X.columns , \"Importance\": list(dt.feature_importances_)})\n",
        "feat_imp.sort_values([\"Importance\"], ascending= False)"
      ],
      "metadata": {
        "id": "JJ1kDuo6kjnS"
      },
      "execution_count": null,
      "outputs": []
    },
    {
      "cell_type": "markdown",
      "source": [
        "XGB"
      ],
      "metadata": {
        "id": "uo5u9ppNkA5O"
      }
    },
    {
      "cell_type": "code",
      "source": [
        "xg = XGBClassifier(eta = 0.1,\n",
        "\t max_depth = 10,\n",
        "\t min_child_weight = 5,\n",
        "\t n_estimators = 100,\n",
        "\t n_jobs = 1)\n",
        "\n",
        "xg.fit(X,Y)"
      ],
      "metadata": {
        "id": "Amx3P7jIktza"
      },
      "execution_count": null,
      "outputs": []
    },
    {
      "cell_type": "code",
      "source": [
        "feat_imp = pd.DataFrame({\"Feature Name\": X.columns , \"Importance\": list(xg.feature_importances_)})\n",
        "feat_imp.sort_values([\"Importance\"], ascending= False)"
      ],
      "metadata": {
        "id": "3ytmZxkskt-J"
      },
      "execution_count": null,
      "outputs": []
    },
    {
      "cell_type": "markdown",
      "source": [
        "Data Slipt"
      ],
      "metadata": {
        "id": "Lswl9PfKk-0s"
      }
    },
    {
      "cell_type": "code",
      "source": [
        "#X_train, X_test, Y_train, y_test = train_test_split(X, Y, test_size=0.25, random_state=12)\n",
        "train_X, val_X, train_Y, val_Y = train_test_split(X, Y, test_size=0.25, random_state = 1)"
      ],
      "metadata": {
        "id": "bEsM5TYplB6U"
      },
      "execution_count": null,
      "outputs": []
    },
    {
      "cell_type": "markdown",
      "source": [
        "LR"
      ],
      "metadata": {
        "id": "9KHpmbcrkCmy"
      }
    },
    {
      "cell_type": "code",
      "source": [
        "model = LogisticRegression(penalty = 'l2',\n",
        "\t  C = 1.0,\n",
        "\t  n_jobs = -1,\n",
        "\t  multi_class = 'auto',\n",
        "\t  solver = 'lbfgs')\n",
        "model.fit(train_X, train_Y)"
      ],
      "metadata": {
        "id": "6tKymlmWk2RO"
      },
      "execution_count": null,
      "outputs": []
    },
    {
      "cell_type": "code",
      "source": [
        "explainer = shap.LinearExplainer(model,val_X)\n",
        "shap_values = explainer.shap_values(val_X)\n",
        "shap.summary_plot(shap_values, val_X)"
      ],
      "metadata": {
        "id": "6NB5o1ZZk2Uz"
      },
      "execution_count": null,
      "outputs": []
    },
    {
      "cell_type": "markdown",
      "source": [
        "SVC"
      ],
      "metadata": {
        "id": "ug-tV0w4kEto"
      }
    },
    {
      "cell_type": "code",
      "source": [
        "sc = StandardScaler()\n",
        "sc.fit(train_X)\n",
        "X_train_std = sc.transform(train_X)\n",
        "X_test_std = sc.transform(val_X)"
      ],
      "metadata": {
        "id": "yDdk8UgClPru"
      },
      "execution_count": null,
      "outputs": []
    },
    {
      "cell_type": "code",
      "source": [
        "# Instantiate the Support Vector Classifier (SVC)\n",
        "svc = SVC(C=1.0, random_state=1, kernel='linear')\n",
        " \n",
        "# Fit the model\n",
        "svc.fit(X_train_std, train_Y)"
      ],
      "metadata": {
        "id": "tkORUCItlPvE"
      },
      "execution_count": null,
      "outputs": []
    },
    {
      "cell_type": "code",
      "source": [
        "# Make the predictions\n",
        "y_pred = svc.predict(X_test_std)\n",
        " \n",
        "# Measure the performance\n",
        "print(\"Accuracy score %.3f\" %metrics.accuracy_score(val_Y, y_pred))"
      ],
      "metadata": {
        "id": "qBV3mEQ6laeG"
      },
      "execution_count": null,
      "outputs": []
    },
    {
      "cell_type": "code",
      "source": [
        "subset_to_explain_scaled = X_test_std\n",
        "explainer = shap.KernelExplainer(svc.predict, subset_to_explain_scaled)\n",
        "shap_values = explainer.shap_values(subset_to_explain_scaled)\n",
        "shap.summary_plot(shap_values, subset_to_explain_scaled)"
      ],
      "metadata": {
        "id": "vKglVn15laqK"
      },
      "execution_count": null,
      "outputs": []
    },
    {
      "cell_type": "markdown",
      "source": [
        "# **All age**"
      ],
      "metadata": {
        "id": "G8Ci03HZgtIl"
      }
    },
    {
      "cell_type": "code",
      "source": [
        "# selecting rows based on condition\n",
        "age_to_all = da.loc[da['Age'] > 64]\n",
        "  \n",
        "age_to_all.sort_values(\"Age\")"
      ],
      "metadata": {
        "id": "X_f2i4jI2bT1"
      },
      "execution_count": null,
      "outputs": []
    },
    {
      "cell_type": "code",
      "source": [
        "# pandas count distinct values in column\n",
        "age_to_all['death'].value_counts()"
      ],
      "metadata": {
        "id": "wWUDtiLx2bWK"
      },
      "execution_count": null,
      "outputs": []
    },
    {
      "cell_type": "code",
      "source": [
        "Y = age_to_all['death']\n",
        "X = age_to_all[[i for i in age_to_all.columns if i!='death' and age_to_all[i].dtype in [np.int64, np.float64, np.object]]]"
      ],
      "metadata": {
        "id": "uDNX2BQM2bXc"
      },
      "execution_count": null,
      "outputs": []
    },
    {
      "cell_type": "markdown",
      "source": [
        "RF"
      ],
      "metadata": {
        "id": "_9YTpOn8lrBz"
      }
    },
    {
      "cell_type": "code",
      "source": [
        "rfc = RandomForestClassifier()\n",
        "rfc.fit(X,Y)"
      ],
      "metadata": {
        "id": "NhJ9sIZ3l7nk"
      },
      "execution_count": null,
      "outputs": []
    },
    {
      "cell_type": "code",
      "source": [
        "feat_imp = pd.DataFrame({\"Feature Name\": X.columns , \"Importance\": list(rfc.feature_importances_)})\n",
        "feat_imp.sort_values([\"Importance\"], ascending= False)"
      ],
      "metadata": {
        "id": "Bddbr7ENl7q9"
      },
      "execution_count": null,
      "outputs": []
    },
    {
      "cell_type": "markdown",
      "source": [
        "DT"
      ],
      "metadata": {
        "id": "h2q32BblluPM"
      }
    },
    {
      "cell_type": "code",
      "source": [
        "dt = DecisionTreeClassifier()\n",
        "dt.fit(X,Y)"
      ],
      "metadata": {
        "id": "A95Y-A-4mi88"
      },
      "execution_count": null,
      "outputs": []
    },
    {
      "cell_type": "code",
      "source": [
        "feat_imp = pd.DataFrame({\"Feature Name\": X.columns , \"Importance\": list(dt.feature_importances_)})\n",
        "feat_imp.sort_values([\"Importance\"], ascending= False)"
      ],
      "metadata": {
        "id": "TgPwSqkxmjAp"
      },
      "execution_count": null,
      "outputs": []
    },
    {
      "cell_type": "markdown",
      "source": [
        "XGB"
      ],
      "metadata": {
        "id": "g8NhY4rUlvt7"
      }
    },
    {
      "cell_type": "code",
      "source": [
        "xg = XGBClassifier(eta = 0.1,\n",
        "\t max_depth = 10,\n",
        "\t min_child_weight = 5,\n",
        "\t n_estimators = 100,\n",
        "\t n_jobs = 1)\n",
        "\n",
        "xg.fit(X,Y)"
      ],
      "metadata": {
        "id": "D7Qur0h_mw-Y"
      },
      "execution_count": null,
      "outputs": []
    },
    {
      "cell_type": "code",
      "source": [
        "feat_imp = pd.DataFrame({\"Feature Name\": X.columns , \"Importance\": list(xg.feature_importances_)})\n",
        "feat_imp.sort_values([\"Importance\"], ascending= False)"
      ],
      "metadata": {
        "id": "r_pazwRymxCm"
      },
      "execution_count": null,
      "outputs": []
    },
    {
      "cell_type": "markdown",
      "source": [
        "Data slipt"
      ],
      "metadata": {
        "id": "J6HJxttkl17v"
      }
    },
    {
      "cell_type": "code",
      "source": [
        "#X_train, X_test, Y_train, y_test = train_test_split(X, Y, test_size=0.25, random_state=12)\n",
        "train_X, val_X, train_Y, val_Y = train_test_split(X, Y, test_size=0.25, random_state = 1)"
      ],
      "metadata": {
        "id": "INiXAgQzm4b6"
      },
      "execution_count": null,
      "outputs": []
    },
    {
      "cell_type": "markdown",
      "source": [
        "LR"
      ],
      "metadata": {
        "id": "xAbd0kdKlx9F"
      }
    },
    {
      "cell_type": "code",
      "source": [
        "model = LogisticRegression(penalty = 'l2',\n",
        "\t  C = 1.0,\n",
        "\t  n_jobs = -1,\n",
        "\t  multi_class = 'auto',\n",
        "\t  solver = 'lbfgs')\n",
        "model.fit(train_X, train_Y)"
      ],
      "metadata": {
        "id": "FpmQsLPPm87n"
      },
      "execution_count": null,
      "outputs": []
    },
    {
      "cell_type": "code",
      "source": [
        "explainer = shap.LinearExplainer(model,val_X)\n",
        "shap_values = explainer.shap_values(val_X)\n",
        "shap.summary_plot(shap_values, val_X)"
      ],
      "metadata": {
        "id": "KYvfSIsLm8_O"
      },
      "execution_count": null,
      "outputs": []
    },
    {
      "cell_type": "markdown",
      "source": [
        "SVC"
      ],
      "metadata": {
        "id": "6-_gLMjelzUa"
      }
    },
    {
      "cell_type": "code",
      "source": [
        "sc = StandardScaler()\n",
        "sc.fit(train_X)\n",
        "X_train_std = sc.transform(train_X)\n",
        "X_test_std = sc.transform(val_X)"
      ],
      "metadata": {
        "id": "eUlOnv5WnEUB"
      },
      "execution_count": null,
      "outputs": []
    },
    {
      "cell_type": "code",
      "source": [
        "# Instantiate the Support Vector Classifier (SVC)\n",
        "svc = SVC(C=1.0, random_state=1, kernel='linear')\n",
        " \n",
        "# Fit the model\n",
        "svc.fit(X_train_std, train_Y)"
      ],
      "metadata": {
        "id": "iUQ2630EnEWb"
      },
      "execution_count": null,
      "outputs": []
    },
    {
      "cell_type": "code",
      "source": [
        "# Make the predictions\n",
        "y_pred = svc.predict(X_test_std)\n",
        " \n",
        "# Measure the performance\n",
        "print(\"Accuracy score %.3f\" %metrics.accuracy_score(val_Y, y_pred))"
      ],
      "metadata": {
        "id": "HYxMo1v7nEYW"
      },
      "execution_count": null,
      "outputs": []
    },
    {
      "cell_type": "code",
      "source": [
        "subset_to_explain_scaled = X_test_std\n",
        "explainer = shap.KernelExplainer(svc.predict, subset_to_explain_scaled)\n",
        "shap_values = explainer.shap_values(subset_to_explain_scaled)\n",
        "shap.summary_plot(shap_values, subset_to_explain_scaled)"
      ],
      "metadata": {
        "id": "mLVGTj7SnEbi"
      },
      "execution_count": null,
      "outputs": []
    }
  ]
}